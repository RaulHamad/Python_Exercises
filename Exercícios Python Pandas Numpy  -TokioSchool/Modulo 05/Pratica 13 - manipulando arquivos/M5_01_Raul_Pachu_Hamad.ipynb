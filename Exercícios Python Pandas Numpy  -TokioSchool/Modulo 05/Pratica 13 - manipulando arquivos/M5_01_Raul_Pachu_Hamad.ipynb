{
 "cells": [
  {
   "cell_type": "markdown",
   "metadata": {},
   "source": [
    "# Exercícios Módulo 5. Ficheiros (Enunciado)\n",
    "\n",
    "Considerações a ter em conta:\n",
    "\n",
    "* Guardar este documento com o seguinte formato para entrega: __M5_01_nome_apelido1_apelido2__\n",
    "* Fazer os exercícios com as ferramentas vistas nas sessões. \n",
    "* Comentar o código\n",
    "* Utilizar nomes de variáveis apropriados, se vai guardar uma nota, chamar a essa variável nota, não n ou x"
   ]
  },
  {
   "cell_type": "markdown",
   "metadata": {},
   "source": [
    "**1)  Neste exercício deverá criar um programa que abra e leia um ficheiro de texto, e nos proporcione a seguinte informação:**\n",
    "\n",
    "* Nome do ficheiro\n",
    "* Se o ficheiro está fechado ou não (True ou False)\n",
    "* O modo de abertura do ficheiro\n",
    "\n",
    "O ficheiro de texto irá denominar-se **provas.txt** e terá o seguinte conteúdo em texto plano (criar previamente):\n",
    "\n",
    "```\n",
    "Olá que tal estás \n",
    "Isto é uma prova \n",
    "Hoje não chove\n",
    "Aproxima-se o natal \n",
    "Até logo e boa \n",
    "continuação\n",
    "```\n",
    "\n",
    "Pesquisar na documentação que métodos nos proporcionam a informação requerida. Por último, listar o conteúdo do ficheiro.\n",
    "\n",
    "**Aviso importante**: *se quer ler um ficheiro que não se escreveu diretamente com Python, é possível que encontre erros de codificação ao \n",
    "mostrar alguns caracteres. Assegure-se de indicar a codificação do ficheiro manualmente durante a abertura como argumento no **open**, por\n",
    "exemplo com UTF-8*:\n",
    "\n",
    "```python\n",
    "open(..., encoding=\"utf8\")\n",
    "```"
   ]
  },
  {
   "cell_type": "code",
   "execution_count": 47,
   "metadata": {},
   "outputs": [
    {
     "name": "stdout",
     "output_type": "stream",
     "text": [
      "objeto criado\n",
      " \n",
      "O arquivo está aberto: False\n",
      " \n",
      "O nome do ficheiro é: provas.txt \n",
      "Atributos:{'nome': 'provas.txt', 'ficheiro_aberto_fechado': False}\n",
      "-----\n",
      "Ficheiro fechado\n",
      "\n",
      "É necessario abrir o ficheiro antes da leitura\n",
      " \n",
      "Olá que tal estás \n",
      "Isto é uma prova \n",
      "Hoje não chove\n",
      "Aproxima-se o natal \n",
      "Até logo e boa \n",
      "continuação\n",
      "\n",
      "\n"
     ]
    }
   ],
   "source": [
    "\n",
    "# Completar o exercício aqui\n",
    "\n",
    "class Arquivo:\n",
    "    \"\"\"\n",
    "    Programa que lê um arquivo de texto e mostre:\n",
    "    - O nome do arquivo\n",
    "    - Se está aberto ou fechado\n",
    "    - Os atributos desse objeto\n",
    "    \"\"\"\n",
    "    \n",
    "    def __init__(self,nome,ficheiro_aberto_fechado = False):\n",
    "        self.nome = nome\n",
    "        self.ficheiro_aberto_fechado = ficheiro_aberto\n",
    "        print(\"objeto criado\")\n",
    "\n",
    "    \n",
    "    def __str__(self):\n",
    "        return f'O nome do ficheiro é: {self.nome} \\nAtributos:{vars(obj)}'\n",
    "    \n",
    "    def estado_do_ficheiro(self):\n",
    "        \"\"\"\n",
    "        Função que verifica se mostra se o arquivo está aberto ou fechado\n",
    "        \"\"\"\n",
    "        if self.ficheiro_aberto == True:\n",
    "            print(\"-----\")\n",
    "            print(\"Ficheiro aberto\")\n",
    "            open(self.nome,\"r\",encoding=\"utf8\")\n",
    "        if self.ficheiro_aberto == False:\n",
    "            print(\"-----\")\n",
    "            print(\"Ficheiro fechado\")\n",
    "            open(self.nome,\"r\").close()\n",
    "        return f''\n",
    "\n",
    "    def ler_ficheiro(self):\n",
    "        \"\"\"\n",
    "        Função que leia o arquivo de texto caso esteja aberto\n",
    "        \"\"\"\n",
    "        if self.ficheiro_aberto == False:\n",
    "            return f'É necessario abrir o ficheiro antes da leitura'\n",
    "        else:\n",
    "            print(open(self.nome,\"r\",encoding=\"utf8\").read())\n",
    "            open(self.nome,\"r\",encoding=\"utf8\").close()\n",
    "            return f''\n",
    "    \n",
    "obj = Arquivo(\"provas.txt\",False)\n",
    "print(\" \")\n",
    "print(\"O arquivo está aberto:\",end=\" \")\n",
    "print(obj.ficheiro_aberto)\n",
    "print(\" \")\n",
    "print(obj.__str__())\n",
    "print(obj.estado_do_ficheiro())\n",
    "print(obj.ler_ficheiro())\n",
    "print(\" \")\n",
    "obj.ficheiro_aberto = True\n",
    "print(obj.ler_ficheiro())"
   ]
  },
  {
   "cell_type": "markdown",
   "metadata": {},
   "source": [
    "**2) Sobre o ficheiro anterior, obtenha a seguinte informação:**\n",
    "\n",
    "* Leitura de uma linha do ficheiro \n",
    "* Leitura do ficheiro linha a linha"
   ]
  },
  {
   "cell_type": "code",
   "execution_count": 48,
   "metadata": {},
   "outputs": [
    {
     "name": "stdout",
     "output_type": "stream",
     "text": [
      "Hoje não chove\n",
      "\n",
      "Olá que tal estás \n",
      "Isto é uma prova \n",
      "Hoje não chove\n",
      "Aproxima-se o natal \n",
      "Até logo e boa \n",
      "continuação\n"
     ]
    }
   ],
   "source": [
    "# Completar o exercício aqui\n",
    "\n",
    "\n",
    "def leitura_Linha(linha):\n",
    "    \"\"\"\n",
    "    Função que exibe apenas uma linha do ficheiro\n",
    "    \"\"\"\n",
    "    ficheiro = open(\"provas.txt\",\"r\",encoding=\"utf8\")\n",
    "    linha_texto = ficheiro.readlines()\n",
    "    print(linha_texto[linha - 1])\n",
    "    ficheiro.close()\n",
    " \n",
    "\n",
    "\n",
    "\n",
    "def leitura_ficheiro():\n",
    "    \"\"\"\n",
    "    Função que exibe todas as linhas do ficheiro\n",
    "    \"\"\"\n",
    "    ficheiro = open(\"provas.txt\",\"r\",encoding=\"utf8\")\n",
    "    for linhas in ficheiro.readlines():\n",
    "        print(linhas,end=\"\")\n",
    "    ficheiro.close()\n",
    "\n",
    "leitura_Linha(3)\n",
    "leitura_ficheiro()"
   ]
  },
  {
   "cell_type": "markdown",
   "metadata": {},
   "source": [
    "**3)  Sobre o ficheiro anterior, fazer a seguinte operação:**\n",
    "\n",
    "* Abrir o ficheiro em modo de escrita (concatenando o conteúdo, sem substituir) e escrever uma nova linha de texto\n",
    "\n",
    "Comprovar que esta a funcionar corretamente imprimindo o conteúdo do ficheiro (terá que fechar e abrir a conexão para poder visualizar as mudanças)."
   ]
  },
  {
   "cell_type": "code",
   "execution_count": 54,
   "metadata": {},
   "outputs": [
    {
     "name": "stdout",
     "output_type": "stream",
     "text": [
      "Digite o texto para adicionar ao ficheiro 'provas.txt': Estudando python\n",
      "Olá que tal estás \n",
      "\n",
      "Isto é uma prova \n",
      "\n",
      "Hoje não chove\n",
      "\n",
      "Aproxima-se o natal \n",
      "\n",
      "Até logo e boa \n",
      "\n",
      "continuação\n",
      "\n",
      "Estudando python\n"
     ]
    }
   ],
   "source": [
    "# Completar o exercício aqui\n",
    "def arquivo_escrever():\n",
    "    \"\"\"\n",
    "    Função que adiciona texto ao ficheiro do exercicio anterior\n",
    "    \"\"\"\n",
    "    texto = input(\"Digite o texto para adicionar ao ficheiro 'provas.txt': \")\n",
    "    ficheiro = open(\"provas.txt\",\"a\")\n",
    "    ficheiro.write(texto)\n",
    "    ficheiro.close()\n",
    "    ficheiro = open(\"provas.txt\",\"r\",encoding=\"utf8\")\n",
    "    for i in ficheiro:\n",
    "        print(i)\n",
    "    ficheiro.close()\n",
    "    \n",
    "\n",
    "arquivo_escrever()\n",
    "    \n",
    "    "
   ]
  },
  {
   "cell_type": "markdown",
   "metadata": {},
   "source": [
    "**4) Sobre o ficheiro anterior, fazer a seguinte operação:**\n",
    "\n",
    "* Abrir o ficheiro em modo de escrita (substituindo o conteúdo) e escrever uma nova linha de texto\n",
    "\n",
    "Comprovar que esta a funcionar corretamente imprimindo o conteúdo do ficheiro (terá que fechar e abrir a conexão para poder visualizar as mudanças)."
   ]
  },
  {
   "cell_type": "code",
   "execution_count": 59,
   "metadata": {},
   "outputs": [
    {
     "name": "stdout",
     "output_type": "stream",
     "text": [
      "Digite o novo texto: Em busca do primeiro emprego como programador\n",
      "salvando alterações...\n",
      "imprimindo o novo texto em 3\n",
      "imprimindo o novo texto em 2\n",
      "imprimindo o novo texto em 1\n",
      "Em busca do primeiro emprego como programador\n"
     ]
    }
   ],
   "source": [
    "# Completar o exercício aqui\n",
    "import time\n",
    "def ficheiro_editado():\n",
    "    \"\"\"\n",
    "    Função que escreve um novo texto, apagando o anterior\n",
    "    \"\"\"\n",
    "    texto = input(\"Digite o novo texto: \")\n",
    "    print(\"salvando alterações...\")\n",
    "    time.sleep(1)\n",
    "    print(\"imprimindo o novo texto em 3\")\n",
    "    time.sleep(1)\n",
    "    print(\"imprimindo o novo texto em 2\")\n",
    "    time.sleep(1)\n",
    "    print(\"imprimindo o novo texto em 1\")\n",
    "    time.sleep(1)\n",
    "    ficheiro = open(\"provas.txt\",\"w\",encoding=\"utf8\")\n",
    "    ficheiro.write(texto)\n",
    "    ficheiro.close()\n",
    "    ficheiro = open(\"provas.txt\",\"r\",encoding=\"utf8\")\n",
    "    print(ficheiro.read())\n",
    "    ficheiro.close()\n",
    "    \n",
    "    \n",
    "ficheiro_editado()\n",
    "    \n",
    "\n",
    "\n",
    "    "
   ]
  },
  {
   "cell_type": "markdown",
   "metadata": {},
   "source": [
    "**5) Neste exercício deverá criar um programa que leia os dados de um ficheiro de texto, que transforme cada linha num dicionário e adicione o dicionario a uma lista chamada pessoas. De seguida percorre-se a lista pessoas e para cada uma mostrar da forma expressa no exemplo:**\n",
    "\n",
    "```\n",
    "(id=1) Carlos Pérez => 05/01/1989 \n",
    "```\n",
    "\n",
    "O ficheiro de texto irá denominar-se **pessoas.txt** e terá o seguinte conteúdo em texto plano (criar previamente):\n",
    "\n",
    "\n",
    "```\n",
    "1;Carlos;Pérez;05/01/1989\n",
    "2;Manuel;Heredia;26/12/1973\n",
    "3;Rosa;Campos;12/06/1961\n",
    "4;David;García;25/07/2006\n",
    "```\n",
    "\n",
    "Os campos do dicionário serão por ordem: **id**, **nome**, **apelido** e **nascimento**.\n",
    "\n",
    "**Aviso importante**: *se quer ler um ficheiro que não se escreveu diretamente com Python,  é possível que encontre erros de codificação ao mostrar alguns caracteres. Assegure-se de indicar a codificação do ficheiro manualmente durante a abertura como um argumento no **open**, por exemplo com UTF-8*:\n",
    "\n",
    "```python\n",
    "open(..., encoding=\"utf8\")\n",
    "```\n",
    "\n",
    "Pista: é possível que tenha que recorrer a funções como replace ou split para poder modificar o texto de uma linha de texto. \n",
    "Pesquisar documentação sobre isso."
   ]
  },
  {
   "cell_type": "code",
   "execution_count": 63,
   "metadata": {},
   "outputs": [
    {
     "name": "stdout",
     "output_type": "stream",
     "text": [
      "(id=1) Carlos Pérez => 05/01/1989\n",
      "\n",
      "(id=2) Manuel Heredia => 26/12/197\n",
      "\n",
      "(id=3) Rosa Campos => 12/06/1961\n",
      "\n",
      "(id=4) David García => 25/07/2006\n"
     ]
    }
   ],
   "source": [
    "# Completar o exercício aqui\n",
    "\n",
    "ficheiro = open(\"pessoas.txt\",\"r\",encoding=\"utf8\")\n",
    "\n",
    "dict_texto = {}\n",
    "pessoas = list()\n",
    "\n",
    "\n",
    "for linha in ficheiro:\n",
    "    \"\"\"\n",
    "    Transformar cada linha do texto em uma lista\n",
    "    percorrer a lista adicionando em um dicionario\n",
    "    adicionar uma copia do dicionario na lista \"pessoas\"\n",
    "    \n",
    "    \"\"\"\n",
    "    lista_cada_linha = [linha.split(\";\")]\n",
    "    for i in lista_cada_linha:\n",
    "        dict_texto[\"ID\"] = i[0]\n",
    "        dict_texto[\"Nome\"] = i[1]\n",
    "        dict_texto[\"Apelido\"] = i[2]\n",
    "        dict_texto[\"Nascimento\"] = i[3]\n",
    "        pessoas.append(dict_texto.copy())\n",
    "ficheiro.close()\n",
    "\n",
    "for i in pessoas:\n",
    "    print(f'(id={i[\"ID\"]}) {i[\"Nome\"]} {i[\"Apelido\"]} => {i[\"Nascimento\"]}')"
   ]
  },
  {
   "cell_type": "code",
   "execution_count": null,
   "metadata": {},
   "outputs": [],
   "source": []
  }
 ],
 "metadata": {
  "anaconda-cloud": {},
  "kernelspec": {
   "display_name": "Python 3 (ipykernel)",
   "language": "python",
   "name": "python3"
  },
  "language_info": {
   "codemirror_mode": {
    "name": "ipython",
    "version": 3
   },
   "file_extension": ".py",
   "mimetype": "text/x-python",
   "name": "python",
   "nbconvert_exporter": "python",
   "pygments_lexer": "ipython3",
   "version": "3.10.9"
  }
 },
 "nbformat": 4,
 "nbformat_minor": 1
}
