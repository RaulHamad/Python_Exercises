{
 "cells": [
  {
   "cell_type": "markdown",
   "metadata": {},
   "source": [
    "# Exercícios Módulo 2. Controlo de fluxo (Soluções)\n",
    "\n",
    "Considerações a ter em conta:\n",
    "\n",
    "* Guardar este documento com o seguinte formato para entrega: __M2_05_nome_apelido1_apelido2__\n",
    "* Fazer os exercícios com as ferramentas vistas nas sessões. \n",
    "* Comentar o código\n",
    "* Utilizar nomes de variáveis apropriados, se vai guardar uma nota, chamar a essa variável nota, não n ou x"
   ]
  },
  {
   "cell_type": "markdown",
   "metadata": {},
   "source": [
    "## Exercícios de controlo de fluxo"
   ]
  },
  {
   "cell_type": "markdown",
   "metadata": {},
   "source": [
    "**1) Fazer um programa que leia três números por teclado e permitir avaliar o seguinte:** \n",
    "\n",
    "* Se os números estão por ordem ascendente\n",
    "* Se os números não estão por ordem ascendente\n",
    "* Se há um erro devido a que o primeiro número introduzido é 0"
   ]
  },
  {
   "cell_type": "code",
   "execution_count": 17,
   "metadata": {},
   "outputs": [
    {
     "name": "stdout",
     "output_type": "stream",
     "text": [
      "Digite um número: 0\n",
      "Digite um número: 4\n",
      "Digite um número: 1\n",
      "O primeiro número inserido não pode ser '0'\n",
      "Finalizando programa...\n"
     ]
    }
   ],
   "source": [
    "# Completar o exercício aqui\n",
    "num_1 = int(input(\"Digite um número: \"))\n",
    "num_2 = int(input(\"Digite um número: \"))\n",
    "num_3 = int(input(\"Digite um número: \"))\n",
    "\n",
    "while(True):\n",
    "    if num_1 == 0:\n",
    "        print(\"O primeiro número inserido não pode ser '0'\")\n",
    "        print(\"Finalizando programa...\")\n",
    "        break\n",
    "    if num_1 < num_2 < num_3:\n",
    "        print(\"Os números estão em ordem ascendente\")\n",
    "        print(\"Finalizando programa...\")\n",
    "        break\n",
    "    else:\n",
    "        print(\"Os números NÃO estão em ordem ascendente\")\n",
    "        print(\"Finalizando programa...\")\n",
    "        break"
   ]
  },
  {
   "cell_type": "markdown",
   "metadata": {},
   "source": [
    "**2) Fazer um programa que realize o somatório dos primeiros N números, começando em 0, e sendo N o número limite que o utilizador proporciona por teclado:** \n",
    "* Exemplo de número limite introduzido pelo utilizador: 5\n",
    "* somatório = 0 + 1 + 2 + 3 + 4 (somamos os 5 primeiros números)"
   ]
  },
  {
   "cell_type": "code",
   "execution_count": 4,
   "metadata": {},
   "outputs": [
    {
     "name": "stdout",
     "output_type": "stream",
     "text": [
      "Digite um número limite para soma dos inteiros: 5\n",
      "realizando a soma de 0 até 5...\n",
      "A soma de 0 até 5 é: 10\n"
     ]
    }
   ],
   "source": [
    "# Completar o exercício aqui\n",
    "numero_limite = int(input(\"Digite um número limite para soma dos inteiros: \"))\n",
    "print(f\"realizando a soma de 0 até {numero_limite}...\")\n",
    "soma= 0\n",
    "for i in range(numero_limite):\n",
    "    soma += i\n",
    "    \n",
    "print(f'A soma de 0 até {numero_limite} é: {soma}')"
   ]
  },
  {
   "cell_type": "markdown",
   "metadata": {},
   "source": [
    "**3) Fazer um programa que leia dois números por teclado e mostre o seguinte menu:** \n",
    "\n",
    "* Mostrar uma soma dos dois números\n",
    "* Mostrar um resto dos dois números (o primeiro menos o segundo) \n",
    "* Mostrar uma multiplicação dos dois números\n",
    "* Em caso de não introduzir uma opção válida, o programa irá informar que não é correta"
   ]
  },
  {
   "cell_type": "code",
   "execution_count": 60,
   "metadata": {},
   "outputs": [
    {
     "name": "stdout",
     "output_type": "stream",
     "text": [
      "Digite um número: 6\n",
      "Digite outro número: 5\n",
      "-=-=-=-=-=\"MENU\"-=-=-=-=-=\n",
      "\n",
      "Digite '+' para somar\n",
      "Digite '-' para subtrair\n",
      "Digite '*' para multiplicar\n",
      "Digite 'S' para sair do programa\n",
      "s\n",
      "Programa finalizado\n"
     ]
    }
   ],
   "source": [
    "# Completar o exercício aqui\n",
    "\n",
    "num_1 = int(input(\"Digite um número: \"))\n",
    "num_2 = int(input(\"Digite outro número: \"))\n",
    "\n",
    "while(True):\n",
    "    print(f'{\"-=\"*5}\"MENU\"{\"-=\"*5}')\n",
    "    print(\"\")\n",
    "    print(\"Digite '+' para somar\")\n",
    "    print(\"Digite '-' para subtrair\")\n",
    "    print(\"Digite '*' para multiplicar\")\n",
    "    print(\"Digite 'S' para sair do programa\")\n",
    "    operacao = input().upper().strip()\n",
    "    if operacao == 'S':\n",
    "        break\n",
    "    if operacao == '+':\n",
    "        print(f'A soma de {num_1} e {num_2} é igual a {(num_1+num_2)}')\n",
    "    elif operacao == '-':\n",
    "        print(f'A subtração de {num_1} e {num_2} é igual a {(num_1-num_2)}')\n",
    "    elif operacao == '*':\n",
    "        print(f'A multiplicação de {num_1} e {num_2} é igual a {(num_1*num_2)}')\n",
    "    else:\n",
    "        print(f'A operação digitada foi inválida,Digite novamente...')\n",
    "        \n",
    "print(\"Programa finalizado\")\n",
    "    \n"
   ]
  },
  {
   "cell_type": "markdown",
   "metadata": {},
   "source": [
    "**4) Fazer um programa que leia letras e conte com uma variável contadora as letras “a” que se introduzem. Para sair do programa, introduzir o carácter “.”. Ao finalizar mostrar o número de vezes que se pressionou a letra “a”**"
   ]
  },
  {
   "cell_type": "code",
   "execution_count": 73,
   "metadata": {},
   "outputs": [
    {
     "name": "stdout",
     "output_type": "stream",
     "text": [
      "-=-=-=-=\"Contador de letras\"-=-=-=-=\n",
      "Digite uma letra(para sair digite '.'): 6\n",
      "Digite uma letra(para sair digite '.'): a\n",
      "Digite uma letra(para sair digite '.'): r\n",
      "Digite uma letra(para sair digite '.'): adsadadadadadad\n",
      "Digite uma letra(para sair digite '.'): gg\n",
      "Digite uma letra(para sair digite '.'): bf\n",
      "Digite uma letra(para sair digite '.'):    \n",
      "Digite uma letra(para sair digite '.'):     a\n",
      "Digite uma letra(para sair digite '.'): .\n",
      "\n",
      "Contando quantas letras 'a' tem na frase...\n",
      "A letra \"a\" apareceu 9 vezes\n"
     ]
    }
   ],
   "source": [
    "# Completar o exercício aqui\n",
    "print(f'{\"-=\"*4}\"Contador de letras\"{\"-=\"*4}')\n",
    "\n",
    "contadora = 0\n",
    "while(True):\n",
    "    \n",
    "    letra = input(\"Digite uma letra(para sair digite '.'): \").lower().strip()\n",
    "    if letra == '.':\n",
    "        break\n",
    "    else:\n",
    "        contadora += letra.count(\"a\")\n",
    "        \n",
    "print(\"\")    \n",
    "print(\"Contando quantas letras 'a' tem na frase...\")\n",
    "print(f'A letra \"a\" apareceu {contadora} vezes')\n"
   ]
  },
  {
   "cell_type": "markdown",
   "metadata": {},
   "source": [
    "**5)  Fazer um programa que leia por teclado um número ímpar. Deve repetir-se o processo enquanto o utilizador continue a introduzir números ímpares. Quando introduzir um número par, o programa irá parar.**"
   ]
  },
  {
   "cell_type": "code",
   "execution_count": 76,
   "metadata": {},
   "outputs": [
    {
     "name": "stdout",
     "output_type": "stream",
     "text": [
      "-=-=-=-=\"Números ímpares\"-=-=-=-=\n",
      "Digite um número ímpar:100\n",
      "O número digitado é par\n",
      "Programa finalizado\n"
     ]
    }
   ],
   "source": [
    "# Completar o exercício aqui\n",
    "\n",
    "print(f'{\"-=\"*4}\"Números ímpares\"{\"-=\"*4}')\n",
    "\n",
    "while(True):\n",
    "    \n",
    "    numero = int(input(\"Digite um número ímpar:\"))\n",
    "    if numero % 2 != 0:\n",
    "        continue\n",
    "    else:\n",
    "        print(f'O número digitado é par')\n",
    "        print(\"Programa finalizado\")\n",
    "        break\n",
    "\n"
   ]
  },
  {
   "cell_type": "markdown",
   "metadata": {},
   "source": [
    "**6) Fazer um programa que some todos os números pares desde 0 até 100:**\n",
    "\n",
    "*Sugestão: pode utilizar as funções sum() e range() para o tornar mais fácil. O terceiro parâmetro na função range (início, fim, salto) indica um salto de números, experimente-o*"
   ]
  },
  {
   "cell_type": "code",
   "execution_count": 82,
   "metadata": {},
   "outputs": [
    {
     "name": "stdout",
     "output_type": "stream",
     "text": [
      "A soma dos valores de 0 a 100 é : 2550\n",
      "A soma dos valores de 0 a 100 é : 2550\n",
      "A soma dos valores de 0 a 100 é : 2550\n"
     ]
    }
   ],
   "source": [
    "# Completar o exercício aqui\n",
    "contador = 0\n",
    "for i in range(101):\n",
    "    if i % 2 == 0:\n",
    "        contador += i\n",
    "print(f'A soma dos valores de 0 a 100 é : {contador}')\n",
    "# metodos que aprendi durante as aulas\n",
    "contador1 = 0\n",
    "for i in range(0,101,2):\n",
    "    contador1 += i\n",
    "print(f'A soma dos valores de 0 a 100 é : {contador1}')\n",
    "# metodos que aprendi durante as aulas\n",
    "soma = [x for x in range(101) if x%2==0]\n",
    "print(f'A soma dos valores de 0 a 100 é : {sum(soma)}')\n"
   ]
  },
  {
   "cell_type": "markdown",
   "metadata": {},
   "source": [
    "**7)  Fazer um programa que solicite ao utilizador um número que representa o total de números que se vão introduzir. Posteriormente, ler todos esses números e fazer a média aritmética de todos eles:**"
   ]
  },
  {
   "cell_type": "code",
   "execution_count": 86,
   "metadata": {},
   "outputs": [
    {
     "name": "stdout",
     "output_type": "stream",
     "text": [
      "Digite o total de números a introduzir: 7\n",
      "\n",
      "Introduza os números para realizar a média aritmética\n",
      "Digite o número: 1\n",
      "Digite o número: 5\n",
      "Digite o número: 9\n",
      "Digite o número: 7\n",
      "Digite o número: 8\n",
      "Digite o número: 9\n",
      "Digite o número: 3\n",
      "Os números digitados foram [1, 5, 9, 7, 8, 9, 3].\n",
      "Calculando a média...\n",
      "6.0\n"
     ]
    }
   ],
   "source": [
    "# Completar o exercício aqui\n",
    "qtd_numeros = int(input(\"Digite o total de números a introduzir: \"))\n",
    "lista_dos_numeros = []\n",
    "print(\"\")\n",
    "print(\"Introduza os números para realizar a média aritmética\")\n",
    "for i in range(qtd_numeros):\n",
    "    num = int(input(\"Digite o número: \"))\n",
    "    lista_dos_numeros.append(num)\n",
    "print(f'Os números digitados foram {lista_dos_numeros}.')\n",
    "print(\"Calculando a média...\")\n",
    "print(sum(lista_dos_numeros)/len(lista_dos_numeros))"
   ]
  },
  {
   "cell_type": "markdown",
   "metadata": {},
   "source": [
    "**8) Fazer um programa que solicite ao utilizador um número inteiro de 0 a 9, e que enquanto o número não seja correto se repita o processo. Logo deve comprovar se o número se encontra na lista de números e notificá-lo:**\n",
    "\n",
    "*Conselho: a sintaxis “valor in lista” permite comprovar facilmente se um valor se encontra numa lista (devolver True ou False)*"
   ]
  },
  {
   "cell_type": "code",
   "execution_count": 91,
   "metadata": {},
   "outputs": [
    {
     "name": "stdout",
     "output_type": "stream",
     "text": [
      "Verificando se o número digitado está presente na lista de números\n",
      "Digite um número entre 0 e 9: 44\n",
      "número inválido... digite novamente\n",
      "Digite um número entre 0 e 9: 1\n",
      "True\n"
     ]
    }
   ],
   "source": [
    "# Completar o exercício aqui\n",
    "numeros = [1, 3, 6, 9]\n",
    "\n",
    "print(\"Verificando se o número digitado está presente na lista de números\")\n",
    "while(True):\n",
    "    num_int = int(input(\"Digite um número entre 0 e 9: \"))\n",
    "    if num_int < 0 or num_int > 9:\n",
    "        print(\"número inválido... digite novamente\")\n",
    "    else:\n",
    "        if num_int in numeros:\n",
    "            print(True)\n",
    "            break\n",
    "        else:\n",
    "            print(False)\n",
    "            break"
   ]
  },
  {
   "cell_type": "markdown",
   "metadata": {},
   "source": [
    "**9) Fazer um programa que utilize a função range() e a conversão para listas gera as seguintes listas dinamicamente (e mostrá-las com print):**\n",
    "\n",
    "* Todos os números de 0 a 10 [0, 1, 2, ..., 10]\n",
    "* Todos os números de -10 a 0 [-10, -9, -8, ..., 0]\n",
    "* Todos os números pares de 0 a 20 [0, 2, 4, ..., 20]\n",
    "* Todos os números ímpares entre -20 e 0 [-19, -17, -15, ..., -1]\n",
    "* Todos os números múltiplos de 5 a 50 [0, 5, 10, ..., 50]\n",
    "\n",
    "*Pista: utilizar o terceiro parâmetro da função range (início, fim, salto).*"
   ]
  },
  {
   "cell_type": "code",
   "execution_count": 92,
   "metadata": {},
   "outputs": [
    {
     "name": "stdout",
     "output_type": "stream",
     "text": [
      "[0, 1, 2, 3, 4, 5, 6, 7, 8, 9, 10]\n",
      "[-10, -9, -8, -7, -6, -5, -4, -3, -2, -1, 0]\n",
      "[0, 2, 4, 6, 8, 10, 12, 14, 16, 18, 20]\n",
      "[-19, -17, -15, -13, -11, -9, -7, -5, -3, -1]\n",
      "[0, 5, 10, 15, 20, 25, 30, 35, 40, 45, 50]\n"
     ]
    }
   ],
   "source": [
    "# Completar o exercício aqui\n",
    "\n",
    "lista_0_10 = [x for x in range(11)]\n",
    "lista_num_negativos = [x for x in range(-10,1)]\n",
    "lista_num_pares = [x for x in range(21) if x%2 == 0]\n",
    "lista_num_impares = [x for x in range(-20,1) if x%2 !=0]\n",
    "lista_multiplos = [x for x in range(51) if x%5== 0]\n",
    "\n",
    "\n",
    "print(lista_0_10)\n",
    "print(lista_num_negativos)\n",
    "print(lista_num_pares)\n",
    "print(lista_num_impares)\n",
    "print(lista_multiplos)\n"
   ]
  },
  {
   "cell_type": "markdown",
   "metadata": {},
   "source": [
    "**10) Fazer um programa que dadas duas listas, gera uma terceira lista com todos os elementos que se repitam nelas, mas não deve repetir-se nenhum elemento na nova lista:**"
   ]
  },
  {
   "cell_type": "code",
   "execution_count": 97,
   "metadata": {},
   "outputs": [
    {
     "name": "stdout",
     "output_type": "stream",
     "text": [
      "['l', 'a', ' ', 'u', 'o']\n",
      "{' ', 'l', 'a', 'u', 'o'}\n"
     ]
    }
   ],
   "source": [
    "# Completar o exercício aqui\n",
    "lista_1 = [\"o\",'l','a',' ', 'm','u','n','d','o']\n",
    "lista_2 = [\"o\",'l','a',' ', 'l','u','a'] \n",
    "lista_3 = []\n",
    "\n",
    "#metodo1\n",
    "\n",
    "for i in range(len(lista_1)):\n",
    "    if lista_1[i] in lista_2:\n",
    "        lista_3.append(lista_1[i])\n",
    "for x in lista_3:\n",
    "    while lista_3.count(x) > 1:\n",
    "        lista_3.remove(x)\n",
    "print(lista_3)\n",
    "\n",
    "#método com set\n",
    "\n",
    "conjunto_1 = {x for x in lista_1}\n",
    "conjunto_2 = {x for x in lista_2}\n",
    "lista_3 = conjunto_1 & conjunto_2\n",
    "print(lista_3)\n"
   ]
  },
  {
   "cell_type": "code",
   "execution_count": null,
   "metadata": {},
   "outputs": [],
   "source": []
  }
 ],
 "metadata": {
  "anaconda-cloud": {},
  "kernelspec": {
   "display_name": "Python 3 (ipykernel)",
   "language": "python",
   "name": "python3"
  },
  "language_info": {
   "codemirror_mode": {
    "name": "ipython",
    "version": 3
   },
   "file_extension": ".py",
   "mimetype": "text/x-python",
   "name": "python",
   "nbconvert_exporter": "python",
   "pygments_lexer": "ipython3",
   "version": "3.10.9"
  }
 },
 "nbformat": 4,
 "nbformat_minor": 1
}
