{
 "cells": [
  {
   "cell_type": "markdown",
   "metadata": {},
   "source": [
    "# Exercícios Módulo 2. Funções (Soluções)\n",
    "\n",
    "Considerações a ter em conta:\n",
    "\n",
    "* Guardar este documento com o seguinte formato para entrega: M2_06_nome_apelido1_apelido2\n",
    "* Fazer os exercícios com as ferramentas vistas nas sessões. \n",
    "* Comentar o código\n",
    "* Utilizar nomes de variáveis apropriados, se vai guardar uma nota, chamar a essa variável nota, não n ou x"
   ]
  },
  {
   "cell_type": "markdown",
   "metadata": {},
   "source": [
    "**1) Fazer uma função que devolva a área de um retângulo a partir da sua base e altura.\n",
    "A função chama-se area_retangulo(). Os valores da base e a altura pedem-se ao utilizador.**\n",
    "\n",
    "*Nota: a área de um retângulo obtém-se ao multiplicar a base pela altura.*"
   ]
  },
  {
   "cell_type": "code",
   "execution_count": 8,
   "metadata": {},
   "outputs": [
    {
     "name": "stdout",
     "output_type": "stream",
     "text": [
      "Digite a medida da base do retangulo: 2\n",
      "Digite a medida da altura do retangulo: 3\n",
      " A área do retangulo é 6.0\n"
     ]
    }
   ],
   "source": [
    "# Completar o exercício aqui\n",
    "\n",
    "def area_retangulo(base,altura):\n",
    "    \"\"\"\n",
    "    Função para calcular a área de um retangulo\n",
    "    base: comprimento da base de um retangulo\n",
    "    altura: medida da altura do retangulo\n",
    "    area: multiplicação da base pela altura\n",
    "    \"\"\"\n",
    "    area = base * altura\n",
    "    return f' A área do retangulo é {area}'\n",
    "\n",
    "base_retangulo = float(input(\"Digite a medida da base do retangulo: \"))\n",
    "altura_retangulo = float(input(\"Digite a medida da altura do retangulo: \"))\n",
    "print(area_retangulo(base_retangulo,altura_retangulo))\n",
    "\n"
   ]
  },
  {
   "cell_type": "markdown",
   "metadata": {},
   "source": [
    "**2) Fazer uma função que devolva a área de um círculo a partir de um raio.\n",
    "A função chama-se area_circulo(). O valor do raio pede-se ao utilizador:**\n",
    "\n",
    "Nota: a área de um círculo obtém-se ao elevar o raio ao quadrado e multiplicando o resultado pelo número pi. Pode utilizar o valor 3,14159 como pi ou importá-lo do módulo math:\n",
    "```python\n",
    "import math\n",
    "print(math.pi)\n",
    "> 3.1415...\n",
    "```"
   ]
  },
  {
   "cell_type": "code",
   "execution_count": 20,
   "metadata": {},
   "outputs": [
    {
     "name": "stdout",
     "output_type": "stream",
     "text": [
      "Digite o raio do circulo: 6\n",
      "A área do circulo é 113.09733552923255\n",
      "Help on function area_circulo in module __main__:\n",
      "\n",
      "area_circulo()\n",
      "    função para calcular a área de um circulo\n",
      "    r: valor do raio do circulo\n",
      "    area: multiplicar pi pelo raio ao quadrado\n",
      "\n"
     ]
    }
   ],
   "source": [
    "# Completar o exercício aqui\n",
    "import math\n",
    "\n",
    "def area_circulo():\n",
    "    \"\"\"\n",
    "    função para calcular a área de um circulo\n",
    "    r: valor do raio do circulo\n",
    "    area: multiplicar pi pelo raio ao quadrado\n",
    "    \"\"\"\n",
    "    r= float(input(\"Digite o raio do circulo: \"))\n",
    "    area = math.pi * (r**2)\n",
    "    return f'A área do circulo é {area}'\n",
    "\n",
    "print(area_circulo())\n",
    "help(area_circulo)\n"
   ]
  },
  {
   "cell_type": "markdown",
   "metadata": {},
   "source": [
    "**3)  Fazer uma função que a partir de dois números, que se solicitam por teclado ao utilizador e que se vai chamar relacao(), e cumpra as seguintes condições:**\n",
    "\n",
    "* Se o primeiro número é maior que o segundo, deve devolver 1\n",
    "* Se o primeiro número é menor que o segundo, deve devolver -1\n",
    "* Se ambos números são iguais, deve devolver um 0\n",
    "\n",
    "**Testar a relação entre os números com: '5 e 10', '10 e 5' e '5 e 5'**"
   ]
  },
  {
   "cell_type": "code",
   "execution_count": 22,
   "metadata": {},
   "outputs": [
    {
     "name": "stdout",
     "output_type": "stream",
     "text": [
      "Digite um número: 4\n",
      "Digite outro número: 6\n",
      "-1\n",
      "Help on function relacao in module __main__:\n",
      "\n",
      "relacao(num1, num2)\n",
      "    função que retorna um valor fixo de acordo com as condições:\n",
      "    num_1 é maior que num_2 deve devolver 1\n",
      "    num_1 é menor que num_2, deve devolver -1\n",
      "    Se num_1 == num_2, deve devolver um 0\n",
      "\n"
     ]
    }
   ],
   "source": [
    "# Completar o exercício aqui\n",
    "\n",
    "def relacao(num1,num2):\n",
    "    \"\"\"\n",
    "    função que retorna um valor fixo de acordo com as condições:\n",
    "    num1 é maior que num2 deve devolver 1\n",
    "    num1 é menor que num2, deve devolver -1\n",
    "    Se num1 == num2, deve devolver um 0\n",
    "    \"\"\"\n",
    "    \n",
    "    \n",
    "    if num_1 > num_2:\n",
    "        return 1\n",
    "    elif num_1 < num_2:\n",
    "        return -1\n",
    "    else:\n",
    "        return 0\n",
    "    \n",
    "    \n",
    "num_1 = int(input(\"Digite um número: \"))\n",
    "num_2 = int(input(\"Digite outro número: \"))    \n",
    "print(relacao(num_1,num_2))\n",
    "help(relacao)"
   ]
  },
  {
   "cell_type": "markdown",
   "metadata": {},
   "source": [
    "**4) Fazer uma função chamada ler_numero() que solicite e imprima um número do utilizador.  Utiliza esta função (ler_numeros) para pedir ao utilizador 3 números e guardamos estes 3 valores.\n",
    "De seguida, passe estes 3 números como argumento de uma nova função que se chame maior(a,b,c), que deve devolver o maior número:**"
   ]
  },
  {
   "cell_type": "code",
   "execution_count": 26,
   "metadata": {},
   "outputs": [
    {
     "name": "stdout",
     "output_type": "stream",
     "text": [
      "Digite um número: 0\n",
      "Digite um número: 0\n",
      "Digite um número: 1\n"
     ]
    },
    {
     "data": {
      "text/plain": [
       "'O maior número entre 0, 0 e 1 é: 1'"
      ]
     },
     "execution_count": 26,
     "metadata": {},
     "output_type": "execute_result"
    }
   ],
   "source": [
    "# Completar o exercício aqui\n",
    "\n",
    "def ler_numero():\n",
    "    \"\"\"\n",
    "    função que armazena um número pelo input\n",
    "    \"\"\"\n",
    "    numero = int(input(\"Digite um número: \"))\n",
    "    return numero\n",
    "\n",
    "def maior(a,b,c):\n",
    "    \"\"\"\n",
    "    função que devolve o maior valor entre os argumentos\n",
    "    \"\"\"\n",
    "        \n",
    "    return f'O maior número entre {a}, {b} e {c} é: {max(a,b,c)}'\n",
    "\n",
    "\n",
    "valor_1 = ler_numero()\n",
    "valor_2 = ler_numero()\n",
    "valor_3 = ler_numero()\n",
    "\n",
    "maior(valor_1,valor_2,valor_3)\n",
    "\n",
    "    \n",
    "\n"
   ]
  },
  {
   "cell_type": "markdown",
   "metadata": {},
   "source": [
    "**5) Fazer uma função chamada imc(). Esta função proporciona-nos o estado nutricional de uma  pessoa. É a classificação do seu índice de massa corporal (IMC), segundo a definição:**\n",
    "* Baixo peso:  0 < 18.50\n",
    "* Normal:       entre (18.50, 25.00)\n",
    "* Sobrepeso:  entre (25.00, 30.00)\n",
    "* Obesidade:   ∞  > 30.00  \n",
    " A função irá receber o peso (em quilos) e o tamanho de uma pessoa (em metros com dois valores decimais) do utilizador, na qual se pode calcular o IMC da seguinte forma:\n",
    "\n",
    "*IMC = peso / (altura * altura)*\n",
    "*Classificação: IMC (Kg/m^2)*\n"
   ]
  },
  {
   "cell_type": "code",
   "execution_count": 33,
   "metadata": {},
   "outputs": [
    {
     "name": "stdout",
     "output_type": "stream",
     "text": [
      "Digite seu peso em kg: 120\n",
      "Digite sua altura em metros: 1.65\n"
     ]
    },
    {
     "data": {
      "text/plain": [
       "'O IMC é de 44.08. Obesidade.'"
      ]
     },
     "execution_count": 33,
     "metadata": {},
     "output_type": "execute_result"
    }
   ],
   "source": [
    "# Completar o exercício aqui\n",
    "def imc(peso,altura):\n",
    "    \"\"\"\n",
    "    função para calcular indice de massa corporal\n",
    "    peso: em kg\n",
    "    altura: em metros\n",
    "    \n",
    "    \"\"\"\n",
    "    imc = peso/(altura*altura)\n",
    "    \n",
    "    if 0 < imc < 18.50:\n",
    "        return f'O IMC é de {imc:.02f}. Baixo peso.'\n",
    "    elif 18.50 <= imc < 25:\n",
    "        return f'O IMC é de {imc:.02f}. Normal.'\n",
    "    elif 25 <= imc < 30:\n",
    "        return f'O IMC é de {imc:.02f}. Sobrepeso.'\n",
    "    else:\n",
    "        return f'O IMC é de {imc:.02f}. Obesidade.'\n",
    "    \n",
    "\n",
    "peso = float(input(\"Digite seu peso em kg: \"))\n",
    "altura = float(input(\"Digite sua altura em metros: \"))\n",
    "\n",
    "imc(peso,altura)\n"
   ]
  },
  {
   "cell_type": "code",
   "execution_count": null,
   "metadata": {},
   "outputs": [],
   "source": []
  }
 ],
 "metadata": {
  "anaconda-cloud": {},
  "kernelspec": {
   "display_name": "Python 3 (ipykernel)",
   "language": "python",
   "name": "python3"
  },
  "language_info": {
   "codemirror_mode": {
    "name": "ipython",
    "version": 3
   },
   "file_extension": ".py",
   "mimetype": "text/x-python",
   "name": "python",
   "nbconvert_exporter": "python",
   "pygments_lexer": "ipython3",
   "version": "3.10.9"
  }
 },
 "nbformat": 4,
 "nbformat_minor": 1
}
