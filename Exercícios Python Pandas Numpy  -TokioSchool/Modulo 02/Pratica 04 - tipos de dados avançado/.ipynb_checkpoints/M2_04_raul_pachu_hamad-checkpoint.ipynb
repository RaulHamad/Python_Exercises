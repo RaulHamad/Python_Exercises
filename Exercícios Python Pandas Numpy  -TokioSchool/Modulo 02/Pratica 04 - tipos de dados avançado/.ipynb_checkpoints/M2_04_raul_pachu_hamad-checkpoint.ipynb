{
 "cells": [
  {
   "cell_type": "markdown",
   "metadata": {},
   "source": [
    "# Exercícios Módulo 2. Tipos avançados\n",
    "\n",
    "Considerações a ter em conta:\n",
    "\n",
    "* Guardar este documento com o seguinte formato para entrega: __M2_03_nome_apelido1_apelido2__ \n",
    "* Fazer os exercícios com as ferramentas vistas nas sessões. Ainda não chegámos às condicionais nem ciclos \n",
    "* Comentar o código\n",
    "* Utilizar nomes de variáveis apropriados, se vai guardar uma nota, chamar a essa variável nota, não n ou x"
   ]
  },
  {
   "cell_type": "markdown",
   "metadata": {},
   "source": [
    "## Exercícios de tipos avançados"
   ]
  },
  {
   "cell_type": "markdown",
   "metadata": {},
   "source": [
    "**1) Trabalhar com listas e tuplas**\n",
    "\n",
    "* Criar uma lista e uma tupla que contenha strings (pelo menos 3 elementos). Será de temática livre, sobre o que quiser: veículos, comida, música, etc.\n",
    "* Imprimir a lista e a tupla.\n",
    "* Imprimir o 2.º elemento da lista e o penúltimo da tupla.\n",
    "* Modificar (se puder) algum elemento da lista e da tupla. E imprimir o resultado novamente.\n",
    "* Mostrar o tamanho da lista e da tupla.\n",
    "* Procurar um elemento dentro da lista e da tupla. Mostrar se nos devolve True ou False.\n",
    "* Adicionar (se puder) algum elemento à lista e à tupla. Mostrar a lista e a tupla novamente para verificar se a ação foi realizada corretamente.\n",
    "* Apagar ou eliminar (se puder) o conteúdo da lista e da tupla. Imprimir a lista e a tupla novamente para verificar se a ação foi realizada corretamente.\n"
   ]
  },
  {
   "cell_type": "code",
   "execution_count": 1,
   "metadata": {},
   "outputs": [
    {
     "name": "stdout",
     "output_type": "stream",
     "text": [
      "['nissan', 'renault', 'ford']\n",
      "('titanic', 'halloween', 'friday the 13th', 'jaws')\n",
      "renault\n",
      "friday the 13th\n",
      "['nissan', 'renault', 'ferrari']\n",
      "3 4\n",
      "O tamanho da lista de carros é de 3 itens\n",
      "O tamanho da tupla de filmes é de 4 itens\n",
      "True\n",
      "False\n",
      "True\n",
      "['nissan', 'bmw', 'renault', 'bmw', 'ferrari', 'peugout']\n",
      "['nissan', 'bmw', 'renault', 'bmw', 'ferrari']\n",
      "['bmw', 'renault', 'bmw', 'ferrari']\n",
      "['renault', 'bmw', 'ferrari']\n",
      "[]\n"
     ]
    }
   ],
   "source": [
    "# Completar o exercício aqui\n",
    "\n",
    "\n",
    "\n",
    "# Criação\n",
    "carro_marca = [\"nissan\",\"renault\",\"ford\"]\n",
    "filmes = (\"titanic\",\"halloween\", \"friday the 13th\", \"jaws\")\n",
    "\n",
    "\n",
    "# Mostrar\n",
    "print(carro_marca)\n",
    "print(filmes)\n",
    "\n",
    "\n",
    "# Mostrar elementos específicos\n",
    "print(carro_marca[1])\n",
    "print(filmes[-2])\n",
    "\n",
    "\n",
    "# Modificar\n",
    "#trocar o elemento \"ford\" por \"ferrari\"\n",
    "carro_marca[2] = \"ferrari\"\n",
    "print(carro_marca)\n",
    "\n",
    "\n",
    "\n",
    "# Tamanho\n",
    "print(len(carro_marca),len(filmes))\n",
    "print(f'O tamanho da lista de carros é de {len(carro_marca)} itens')\n",
    "print(f'O tamanho da tupla de filmes é de {len(filmes)} itens')\n",
    "\n",
    "\n",
    "# Pesquisa de elementos\n",
    "print(\"renault\" in carro_marca)\n",
    "print(\"bob esponja\" in filmes)\n",
    "print(\"halloween\" in filmes)\n",
    "\n",
    "\n",
    "\n",
    "# Adicionar elementos\n",
    "carro_marca.append(\"peugout\")\n",
    "carro_marca.insert(1,\"bmw\")\n",
    "carro_marca.insert(3,\"bmw\")\n",
    "\n",
    "print(carro_marca)\n",
    "\n",
    "\n",
    "# Apagado\n",
    "carro_marca.pop() #remover ultimo item da lista\n",
    "print(carro_marca)\n",
    "carro_marca.pop(0) # adicionando o indice que deseja remover\n",
    "print(carro_marca)\n",
    "carro_marca.remove(\"bmw\") #remove o primeiro item igual ao parametro indicado\n",
    "print(carro_marca)\n",
    "del filmes #eliminando filmes\n",
    "carro_marca.clear() #apagando os itens da lista\n",
    "print(carro_marca)\n",
    "# print(filmes) - NameError\n",
    "\n"
   ]
  },
  {
   "cell_type": "markdown",
   "metadata": {},
   "source": [
    "**2) Trabalhar com sets e dicionários**\n",
    "\n",
    "* Criar um set e um dicionário que contenham strings (pelo menos 3 elementos no caso do set e 3 conjuntos de chave: valor no caso do dicionário). Temática livre, sobre o que quiser, veículos, comida, música, etc.\n",
    "* Mostrar o set e o dicionário\n",
    "* Mostrar (se puder) o 2º elemento do set e o valor da primeira chave-valor do dicionário \n",
    "* Modificar (se puder) algum elemento do set ou do dicionário. E mostrar o resultado \n",
    "* Mostrar o tamanho do set e do dicionário\n",
    "* Fazer uma pesquisa de um elemento dentro do set e dentro do dicionário. Imprimir o resultado (True ou False).\n",
    "* Adicionar (se puder) algum elemento ao set e alguma chave-valor ao dicionário. Imprimir novamente o set e o dicionário para verificar se a acção foi realizada corretamente.\n",
    "* Apagar ou eliminar (se puder) o conteúdo do set e do dicionário. Imprimir de novo o set e o dicionário para verificar se a acção foi realizada corretamente."
   ]
  },
  {
   "cell_type": "code",
   "execution_count": 80,
   "metadata": {},
   "outputs": [
    {
     "name": "stdout",
     "output_type": "stream",
     "text": [
      "{1, 2, 3, 4, 5, 8, 9, 55}\n",
      "{'Portugal': 'Braga', 'Brasil': 'João Pessoa', 'Espanha': 'Badajoz', 'Argentina': 'Buenos Aires'}\n",
      "2\n",
      "João Pessoa\n",
      "{'Portugal': 'Braga', 'Brasil': 'recife', 'Espanha': 'Badajoz', 'Argentina': 'Buenos Aires'}\n",
      "8\n",
      "4\n",
      "False\n",
      "True\n",
      "{1, 2, 3, 4, 5, 99, 8, 9, 55}\n",
      "{'Portugal': 'Braga', 'Brasil': 'recife', 'Espanha': 'Badajoz', 'Argentina': 'Buenos Aires', 'Mexico': 'Cancún'}\n",
      "{1, 2, 3, 4, 5, 8, 9, 55}\n",
      "set()\n",
      "{'Portugal': 'Braga', 'Espanha': 'Badajoz', 'Argentina': 'Buenos Aires', 'Mexico': 'Cancún'}\n",
      "{}\n"
     ]
    }
   ],
   "source": [
    "#  Completar o exercício aqui\n",
    "\n",
    "\n",
    "\n",
    "# Criação\n",
    "numeros_int =  {1,2,3,4,5,8,9,55}\n",
    "\n",
    "pais_cidade = {\n",
    "    \"Portugal\" : \"Braga\",\n",
    "    \"Brasil\": \"João Pessoa\",\n",
    "    \"Espanha\" : \"Badajoz\",\n",
    "    \"Argentina\" : \"Buenos Aires\"\n",
    "}\n",
    "\n",
    "\n",
    "# Mostrar\n",
    "print(numeros_int)\n",
    "\n",
    "print(pais_cidade)\n",
    "\n",
    "\n",
    "# Mostrar elementos específicos\n",
    "for x,y in enumerate(numeros_int):\n",
    "    if x == 1:\n",
    "        print(y)\n",
    "        \n",
    "print(pais_cidade[\"Brasil\"])\n",
    "\n",
    "# Modificar\n",
    "pais_cidade[\"Brasil\"] = \"recife\"\n",
    "print(pais_cidade)\n",
    "\n",
    "\n",
    "# Tamanho\n",
    "print(len(numeros_int))\n",
    "\n",
    "print(len(pais_cidade))\n",
    "\n",
    "\n",
    "# Pesquisa de elementos\n",
    "print(7 in numeros_int)\n",
    "\n",
    "verificar_dict = \"Espanha\" in pais_cidade\n",
    "print(verificar_dict)\n",
    "\n",
    "\n",
    "\n",
    "# Adicionar elementos\n",
    "numeros_int.add(99)\n",
    "print(numeros_int)\n",
    "\n",
    "pais_cidade[\"Mexico\"] = \"Cancún\"\n",
    "print(pais_cidade)\n",
    "\n",
    "\n",
    "# Apagado\n",
    "numeros_int.discard(99)\n",
    "print(numeros_int)\n",
    "numeros_int.clear()\n",
    "print(numeros_int)\n",
    "\n",
    "pais_cidade.pop(\"Brasil\")\n",
    "print(pais_cidade)\n",
    "pais_cidade.clear()\n",
    "print(pais_cidade)\n",
    "del numeros_int\n",
    "del pais_cidade\n",
    "#print(numeros_int)\n",
    "#print(pais_cidade)"
   ]
  },
  {
   "cell_type": "markdown",
   "metadata": {},
   "source": [
    "**3) Fazer um programa que peça ao utilizador 3 números que possam int ou float (não é  necessário fazer ciclos , pode repetir o código).\n",
    "Estes números devem ser  adicionados a uma  lista. Quando se finalizar a introdução dos dados, realizar a soma dos elementos da lista e atribuir a uma variavel com nome \"somatório\" . \n",
    "No final, imprimir o resultado.\n",
    "”**\n",
    "\n",
    "*Ajuda: existe uma função chamada sum(lista) Experimente-a!*"
   ]
  },
  {
   "cell_type": "code",
   "execution_count": 79,
   "metadata": {},
   "outputs": [
    {
     "name": "stdout",
     "output_type": "stream",
     "text": [
      "Digite um número: 5\n",
      "Digite outro número: 6\n",
      "Digite mais um número: 8\n",
      "[5.0, 6.0, 8.0]\n",
      "A soma dos números da lista é : 19.0\n"
     ]
    }
   ],
   "source": [
    "# Completar o exercício aqui\n",
    "num_1 = float(input(\"Digite um número: \"))\n",
    "num_2 = float(input(\"Digite outro número: \"))\n",
    "num_3 = float(input(\"Digite mais um número: \"))\n",
    "lista_numeros = []\n",
    "lista_numeros.append(num_1)\n",
    "lista_numeros.append(num_2)\n",
    "lista_numeros.append(num_3)\n",
    "print(lista_numeros)\n",
    "print(f'A soma dos números da lista é : {sum(lista_numeros)}')\n",
    "\n",
    "\n"
   ]
  },
  {
   "cell_type": "markdown",
   "metadata": {},
   "source": [
    "**4) Continuar o exercício anterior; calcular a média aritmética dos elementos da lista e imprimir o resultado.**\n",
    "\n",
    "*Neste caso sabemos que o número de elementos que o utilizador introduziu é 3, mas o objetivo será deixar o programa abstrato,e portanto, não fazer referência ao número 3; deve calcular o numeros de elementos da lista*"
   ]
  },
  {
   "cell_type": "code",
   "execution_count": 89,
   "metadata": {},
   "outputs": [
    {
     "name": "stdout",
     "output_type": "stream",
     "text": [
      "6.333333333333333\n",
      "6.33\n",
      "6\n"
     ]
    }
   ],
   "source": [
    "# Completar o exercício aqui\n",
    "media_aritmetica = (sum(lista_numeros)/len(lista_numeros))\n",
    "print(media_aritmetica)\n",
    "print(f'{media_aritmetica:.02f}')# com duas casas decimais\n",
    "print(round(media_aritmetica)) # fazendo o arredondamento para o numero inteiro mais proximo"
   ]
  },
  {
   "cell_type": "markdown",
   "metadata": {},
   "source": [
    "**5) Dada a seguinte matriz (lista com quatro listas como elementos), o objectivo é que em cada sublista, o quarto elemento seja sempre o resultado da soma dos três primeiros elementos. Construa um pequeno programa que realize este cálculo.**\n",
    "\n",
    "Pista: modificar as somas erradas utilizando o slicing\n",
    "\n",
    "\n",
    "* Não vale colocar diretamente os valores (nem os índices nem a soma): \n",
    "* matriz[1][3] = 6\n",
    "* matriz[3][3] = 12\n",
    "* Há que pesquisar uma forma automatizada de aceder e modificar esses valores"
   ]
  },
  {
   "cell_type": "code",
   "execution_count": 98,
   "metadata": {},
   "outputs": [
    {
     "name": "stdout",
     "output_type": "stream",
     "text": [
      "[[1, 1, 1, 3], [2, 2, 2, 6], [3, 3, 3, 9], [3, 4, 4, 11]]\n"
     ]
    }
   ],
   "source": [
    "matriz = [ \n",
    "    [1, 1, 1, 3],\n",
    "    [2, 2, 2, 7],\n",
    "    [3, 3, 3, 9],\n",
    "    [3, 4, 4, 13]\n",
    "]\n",
    "\n",
    "# Completar o exercício aqui\n",
    "\n",
    "for i,y in enumerate(matriz):\n",
    "    matriz[i][-1] = sum(matriz[i][:3])\n",
    "print(matriz)\n"
   ]
  },
  {
   "cell_type": "markdown",
   "metadata": {},
   "source": [
    "**6) Supor que obtém uma string invertida. Esta string contém o nome e a nota de um aluno. Formate este string para obter o seguinte output:**\n",
    "\n",
    "* ***Nome Apelido*** teve um(a) ***Nota*** de nota\n",
    "\n",
    "*Pista: Para inverter uma string usando a técnica de slicing pode-se utilizar um terceiro índice -1: cadeia[::-1]*"
   ]
  },
  {
   "cell_type": "code",
   "execution_count": 128,
   "metadata": {},
   "outputs": [
    {
     "name": "stdout",
     "output_type": "stream",
     "text": [
      "Carlos Perez teve um 10 de nota\n",
      "10,Carlos Perez\n",
      "Carlos Perez teve um 10 de nota\n"
     ]
    }
   ],
   "source": [
    "cadeia = \"zereP solraC,01\"\n",
    "\n",
    "# Completar o exercício aqui\n",
    "print(f'{cadeia[11::-1]} teve um {cadeia[:-3:-1]} de nota')\n",
    "\n",
    "\n",
    "#Outro método de resolver\n",
    "nova_cadeia = cadeia[::-1]\n",
    "print(nova_cadeia)\n",
    "\n",
    "nome_aluno = nova_cadeia[3:]\n",
    "nota_aluno = nova_cadeia[:2:]\n",
    "\n",
    "print(f'{nome_aluno} teve um {nota_aluno} de nota')\n"
   ]
  },
  {
   "cell_type": "markdown",
   "metadata": {},
   "source": [
    "**7) Fazer um programa que cumpra as seguintes instruções:**\n",
    "\n",
    "* Criar um conjunto chamado utilizadores com os utilizadores Marta, David, Elvira, Juan e Marcos \n",
    "* Criar um conjunto chamado administradores com os administradores Juan e Marta.\n",
    "* Apagar o administrador Juan do conjunto de administradores.\n",
    "* Adicionar Marcos como um novo administrador, mas não o apagar do conjunto de utilizadores.\n",
    "* Imprimir todos os utilizadores por ecrã de forma dinâmica (loop); indicar também se os utilizadores são administradores (ou não).\n",
    "\n",
    "Notas: os conjuntos podem ser percorridos dinâmicamente, utilizando o ciclo **for** de forma similar a uma lista. Também contam com um método chamado **.discard (elemento)** que serve para apagar um elemento.\n",
    "* "
   ]
  },
  {
   "cell_type": "code",
   "execution_count": 142,
   "metadata": {},
   "outputs": [
    {
     "name": "stdout",
     "output_type": "stream",
     "text": [
      "Utilizadores: \n",
      "{'David', 'Marcos', 'Juan', 'Elvira', 'Marta'}\n",
      "Administradores: \n",
      "{'Marta', 'Juan'}\n",
      "Apagando administrador Juan:\n",
      "{'Marta'}\n",
      "Adicionando Marcos aos administradores: \n",
      "{'Marta', 'Marcos'}\n",
      "-=-=-=-=-=\n",
      "Utilizadores: \n",
      "David\n",
      "Marcos\n",
      "Juan\n",
      "Elvira\n",
      "Marta\n",
      "-=-=-=-=-=\n",
      "David não é administrador\n",
      "Marcos é um administrador\n",
      "Juan não é administrador\n",
      "Elvira não é administrador\n",
      "Marta é um administrador\n"
     ]
    }
   ],
   "source": [
    "# Completar o exercício aqui\n",
    "\n",
    "utilizadores = {\"Marta\", \"David\", \"Elvira\", \"Juan\", \"Marcos\"}\n",
    "administradores = {\"Juan\", \"Marta\"}\n",
    "\n",
    "print('Utilizadores: ')\n",
    "print(utilizadores)\n",
    "\n",
    "print(\"Administradores: \")\n",
    "print(administradores)\n",
    "\n",
    "print(\"Apagando administrador Juan:\")\n",
    "administradores.discard(\"Juan\")\n",
    "print(administradores)\n",
    "\n",
    "print(\"Adicionando Marcos aos administradores: \")\n",
    "administradores.add(\"Marcos\")\n",
    "print(administradores)\n",
    "\n",
    "#imprimindo utilizadores de forma dinamica\n",
    "print(\"-=\"*5)\n",
    "print(\"Utilizadores: \")\n",
    "for i in utilizadores:\n",
    "    print(i)\n",
    "print(\"-=\"*5)\n",
    "\n",
    "#verificar se os utilizadores são administradores (ou não).\n",
    "\n",
    "for i in utilizadores:\n",
    "    if i in administradores:\n",
    "        print(f\"{i} é um administrador\")\n",
    "    else:\n",
    "        print(f\"{i} não é administrador\")\n",
    "\n"
   ]
  },
  {
   "cell_type": "markdown",
   "metadata": {},
   "source": [
    "**8) Existe um videojogo na qual os atributos das personagens estão  guardadas nos seguintes dicionários:**\n",
    "\n",
    "* cavaleiro = { 'vida':2, 'ataque':2, 'defesa': 2, 'alcance':2 }\n",
    "* guerreiro = { 'vida':2, 'ataque':2, 'defesa': 2, 'alcance':2 }\n",
    "* arqueiro = { 'vida':2, 'ataque':2, 'defesa': 2, 'alcance':2 }\n",
    "\n",
    "Ao passar para o segundo nível do jogo, temos de automaticamente alterar os seus valores:\n",
    "\n",
    "* O cavaleiro terá o dobro de vida e de defesa que um guerreiro.\n",
    "* O guerreiro terá o dobro do ataque e do alcance que um cavaleiro.\n",
    "* O arqueiro terá a mesma vida e ataque que um guerreiro, mas a metade da sua defesa e o dobro do seu alcance.\n",
    "\n",
    "Imprimir como fica os atributos das três personagens.\n"
   ]
  },
  {
   "cell_type": "code",
   "execution_count": 148,
   "metadata": {},
   "outputs": [
    {
     "name": "stdout",
     "output_type": "stream",
     "text": [
      "{'vida': 4, 'ataque': 2, 'defesa': 4, 'alcance': 2}\n",
      "{'vida': 2, 'ataque': 4, 'defesa': 2, 'alcance': 4}\n",
      "{'vida': 2, 'ataque': 4, 'defesa': 1.0, 'alcance': 8}\n"
     ]
    }
   ],
   "source": [
    "cavaleiro = { 'vida':2, 'ataque':2, 'defesa': 2, 'alcance':2 }\n",
    "guerreiro = { 'vida':2, 'ataque':2, 'defesa': 2, 'alcance':2 }\n",
    "arqueiro  = { 'vida':2, 'ataque':2, 'defesa': 2, 'alcance':2 }\n",
    "\n",
    "# Completar o exercício aqui\n",
    "\n",
    "cavaleiro[\"vida\"] = guerreiro[\"vida\"] *2\n",
    "cavaleiro[\"defesa\"] = guerreiro[\"defesa\"] *2\n",
    "guerreiro[\"ataque\"] = cavaleiro[\"ataque\"] *2\n",
    "guerreiro[\"alcance\"] = cavaleiro[\"alcance\"] *2\n",
    "arqueiro[\"vida\"] = guerreiro[\"vida\"]\n",
    "arqueiro[\"ataque\"] = guerreiro[\"ataque\"]\n",
    "arqueiro[\"defesa\"] = guerreiro[\"defesa\"] /2\n",
    "arqueiro[\"alcance\"] = guerreiro[\"alcance\"] *2\n",
    "\n",
    "\n",
    "print(cavaleiro)\n",
    "print(guerreiro)\n",
    "print(arqueiro)"
   ]
  },
  {
   "cell_type": "code",
   "execution_count": null,
   "metadata": {},
   "outputs": [],
   "source": []
  }
 ],
 "metadata": {
  "anaconda-cloud": {},
  "kernelspec": {
   "display_name": "Python 3 (ipykernel)",
   "language": "python",
   "name": "python3"
  },
  "language_info": {
   "codemirror_mode": {
    "name": "ipython",
    "version": 3
   },
   "file_extension": ".py",
   "mimetype": "text/x-python",
   "name": "python",
   "nbconvert_exporter": "python",
   "pygments_lexer": "ipython3",
   "version": "3.10.9"
  }
 },
 "nbformat": 4,
 "nbformat_minor": 1
}
