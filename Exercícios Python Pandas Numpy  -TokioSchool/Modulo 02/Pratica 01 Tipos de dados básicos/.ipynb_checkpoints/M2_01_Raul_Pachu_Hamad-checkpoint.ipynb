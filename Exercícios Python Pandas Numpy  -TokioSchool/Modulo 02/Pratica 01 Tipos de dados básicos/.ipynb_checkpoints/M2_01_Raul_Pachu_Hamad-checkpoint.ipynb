{
 "cells": [
  {
   "cell_type": "markdown",
   "metadata": {},
   "source": [
    "# Exercícios Módulo 2. Tipos básicos\n",
    "\n",
    "Considerações a ter em conta: \n",
    "\n",
    "* Guardar este documento com o seguinte formato para entrega: __M2_01_nome_apelido1_apelido2__\n",
    "* Fazer os exercícios com as ferramentas vistas nas sessões. Ainda não chegámos às condicionais nem ciclos \n",
    "* Comentar o código\n",
    "* Utilizar nomes de variáveis apropriados, se vai guardar uma nota, chamar a essa variável nota, não n ou x"
   ]
  },
  {
   "cell_type": "markdown",
   "metadata": {},
   "source": [
    "## Exercícios de tipos de variáveis básicos"
   ]
  },
  {
   "cell_type": "markdown",
   "metadata": {},
   "source": [
    "**1) Identifica os tipos de dados (inteiro, real, booleano ou texto) dos seguintes valores:**\n",
    "```python\n",
    "\"Olá Mundo\"        # texto\n",
    "True        # booleano\n",
    "-25                 # inteiro\n",
    "1.167               # real\n",
    "' '                 # texto\n",
    "```"
   ]
  },
  {
   "cell_type": "markdown",
   "metadata": {},
   "source": [
    "**2) Indica o resultado que irão mostrar os print com base a estas variáveis (sem necessidade de programar, mentalmente):**\n",
    "```python\n",
    "a = 10\n",
    "b = -5\n",
    "c =  \"Olá \"\n",
    "```\n",
    "\n",
    "```python\n",
    "print(a * 5)         # 50\n",
    "print(a - b)         # 15\n",
    "print(c + \"Mundo\")   # Olá Mundo\n",
    "print(c * 2)         # Olá Olá \n",
    "print(c[-1])         #   (espaço vazio que vem após o 'á')\n",
    "print(c[1:])         # lá \n",
    "```"
   ]
  },
  {
   "cell_type": "markdown",
   "metadata": {},
   "source": [
    "**3) Armazenar 3 variáveis com 3 strings diferentes, um deles têm de ser 50 pontos (.) gerados de uma forma automática. Criar uma quarta variável que seja a concatenação dos 3 strings, unidos com um traço “-“. Finalmente mostrar esta quarta variável de forma completa e mostrando unicamente os 5 primeiros caracteres e os 5 últimos.**"
   ]
  },
  {
   "cell_type": "code",
   "execution_count": 3,
   "metadata": {},
   "outputs": [
    {
     "name": "stdout",
     "output_type": "stream",
     "text": [
      "Raul-Hamad-..................................................\n",
      "Raul-\n",
      ".....\n"
     ]
    }
   ],
   "source": [
    "# Completar o exercício aqui\n",
    "nome = \"Raul\"\n",
    "apelido = \"Hamad\"\n",
    "ponto_final = '.' * 50\n",
    "\n",
    "unir_variaveis = nome + '-' + apelido + '-' + ponto_final \n",
    "\n",
    "print(unir_variaveis)\n",
    "print(unir_variaveis[0:5])\n",
    "print(unir_variaveis[-5:])\n",
    "\n",
    "\n"
   ]
  },
  {
   "cell_type": "code",
   "execution_count": null,
   "metadata": {},
   "outputs": [],
   "source": []
  },
  {
   "cell_type": "code",
   "execution_count": null,
   "metadata": {},
   "outputs": [],
   "source": []
  }
 ],
 "metadata": {
  "anaconda-cloud": {},
  "kernelspec": {
   "display_name": "Python 3 (ipykernel)",
   "language": "python",
   "name": "python3"
  },
  "language_info": {
   "codemirror_mode": {
    "name": "ipython",
    "version": 3
   },
   "file_extension": ".py",
   "mimetype": "text/x-python",
   "name": "python",
   "nbconvert_exporter": "python",
   "pygments_lexer": "ipython3",
   "version": "3.10.9"
  }
 },
 "nbformat": 4,
 "nbformat_minor": 1
}
