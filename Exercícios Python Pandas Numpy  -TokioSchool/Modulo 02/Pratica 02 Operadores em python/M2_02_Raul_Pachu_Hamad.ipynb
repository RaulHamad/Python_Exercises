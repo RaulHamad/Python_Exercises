{
 "cells": [
  {
   "cell_type": "markdown",
   "metadata": {},
   "source": [
    "# Exercícios Módulo 2. Operadores\n",
    "\n",
    "Considerações a ter em conta:\n",
    "\n",
    "- Guardar este documento com o seguinte formato para entrega: __M2_02_nome_apelido1_apelido2__ \n",
    "- Fazer os exercícios com as ferramentas vistas nas sessões. Ainda não chegámos às condicionais nem ciclos \n",
    "- Comentar o código\n",
    "- Utilizar nomes de variáveis apropriados, se vai guardar uma nota, chamar a essa variável nota, não n ou x\n"
   ]
  },
  {
   "cell_type": "markdown",
   "metadata": {},
   "source": [
    "## Exercícios de operadores e expressões"
   ]
  },
  {
   "cell_type": "markdown",
   "metadata": {},
   "source": [
    "**1)  Armazenar 3 variáveis com 3 notas numéricas e fazer a média aritmética. Mostrar o resultado final com uma mensagem como esta: “A nota média é 6,0”**"
   ]
  },
  {
   "cell_type": "code",
   "execution_count": 10,
   "metadata": {},
   "outputs": [
    {
     "name": "stdout",
     "output_type": "stream",
     "text": [
      "A nota média é 7.0\n",
      "A nota média é 7.0\n"
     ]
    }
   ],
   "source": [
    "# Completar o exercício aqui\n",
    "\n",
    "nota_1 = 7\n",
    "nota_2 = 5\n",
    "nota_3 = 9\n",
    "\n",
    "somar_notas = nota_1 + nota_2 + nota_3\n",
    "media_final = (somar_notas)/3\n",
    "print(\"A nota média é\",media_final)\n",
    "print(f'A nota média é {media_final}')\n"
   ]
  },
  {
   "cell_type": "markdown",
   "metadata": {},
   "source": [
    "**2) Continuar o exercício anterior. Cada nota tem o valor percentual seguinte:**\n",
    "\n",
    "* 1ª nota: vale 15% do total \n",
    "* 2ª nota: vale 35% do total \n",
    "* 3ª nota: vale 50% do total\n",
    "\n",
    "**Calcular a nota média final.**"
   ]
  },
  {
   "cell_type": "code",
   "execution_count": 13,
   "metadata": {},
   "outputs": [
    {
     "name": "stdout",
     "output_type": "stream",
     "text": [
      "A média final ponderada é 5.95\n"
     ]
    }
   ],
   "source": [
    "nota_1 = 10\n",
    "nota_2 = 7\n",
    "nota_3 = 4\n",
    "\n",
    "# Completar o exercício aqui\n",
    "\n",
    "media_ponderada = (nota_1 * (15/100) + nota_2 * (35/100) + nota_3 * (50/100))\n",
    "\n",
    "print(f'A média final ponderada é {media_ponderada:.2f}')\n",
    "\n",
    "\n"
   ]
  },
  {
   "cell_type": "markdown",
   "metadata": {},
   "source": [
    "**3)  Ler 2 números por teclado e avaliar de forma booleana (True ou False) os seguintes aspetos:**\n",
    "\n",
    "* Se os dois números são iguais\n",
    "* Se os dois números são diferentes\n",
    "* Se o primeiro é maior que o segundo\n",
    "* Se o segundo é maior ou igual ao primeiro"
   ]
  },
  {
   "cell_type": "code",
   "execution_count": 20,
   "metadata": {},
   "outputs": [
    {
     "name": "stdout",
     "output_type": "stream",
     "text": [
      "Digite um número: 5\n",
      "Digite outro número: 5\n",
      "O primeiro número é igual ao segundo\n",
      "O segundo número é maior ou igual  ao primeiro\n"
     ]
    }
   ],
   "source": [
    "# Completar o exercício aqui\n",
    "\n",
    "numero_1 = int(input('Digite um número: '))\n",
    "numero_2 = int(input('Digite outro número: '))\n",
    "\n",
    "if numero_1 == numero_2:\n",
    "    print(f'O primeiro número é igual ao segundo')\n",
    "if numero_1 != numero_2:\n",
    "    print(f'O primeiro número é diferente do segundo')\n",
    "if numero_1 > numero_2:\n",
    "    print(f'O primeiro número é maior do que o segundo')\n",
    "if numero_2 >= numero_1:\n",
    "    print(f'O segundo número é maior ou igual  ao primeiro')\n"
   ]
  },
  {
   "cell_type": "markdown",
   "metadata": {},
   "source": [
    "**4) Ler uma cadeia de texto introduzida pelo teclado e avaliar se tem um comprimento maior ou igual a três e menor que dez (mostrar unicamente True ou False) Pista: utilizar operadores lógicos**"
   ]
  },
  {
   "cell_type": "code",
   "execution_count": 28,
   "metadata": {},
   "outputs": [
    {
     "name": "stdout",
     "output_type": "stream",
     "text": [
      "Digite uma cadeia de texto: programador python\n",
      "O texto inserido tem um comprimento maior ou igual a três e menor que dez? False\n",
      "False\n"
     ]
    }
   ],
   "source": [
    "# Completar o exercício aqui\n",
    "\n",
    "texto_introduzido = input(\"Digite uma cadeia de texto: \")\n",
    "\n",
    "print(\"O texto inserido tem um comprimento maior ou igual a três e menor que dez?\", end=' ')\n",
    "print(len(texto_introduzido) >= 3 and len(texto_introduzido) < 10)\n",
    "\n",
    "#Utilizando if\n",
    "\n",
    "if len(texto_introduzido) >= 3 and len(texto_introduzido) < 10:\n",
    "    print(True)\n",
    "else:\n",
    "    print(False)\n",
    "\n"
   ]
  },
  {
   "cell_type": "markdown",
   "metadata": {},
   "source": [
    "**5) Transcrever o seguinte algoritmo (utilizar operadores de atribuição sempre que possa):**\n",
    "\n",
    "* Guardar numa variável o número_mágico o valor 12345679 (sem o 8)\n",
    "* Ler por ecrã outro número_utilizador, especificar que seja entre 1 e 9 (assegurar que seja inteiro) \n",
    "* Multiplicar o número_utilizador por 9 por si mesmo\n",
    "* Multiplicar o número_mágico pelo número_utilizador por si mesmo \n",
    "* Finalmente mostrar o valor final do número_mágico por ecrã"
   ]
  },
  {
   "cell_type": "code",
   "execution_count": 37,
   "metadata": {},
   "outputs": [
    {
     "name": "stdout",
     "output_type": "stream",
     "text": [
      "Digite um número inteiro entre 1 e 9: 5\n",
      "555555555\n"
     ]
    }
   ],
   "source": [
    "# Completar o exercício aqui\n",
    "numero_magico = 12345679\n",
    "\n",
    "numero_utilizador = int(input(\"Digite um número inteiro entre 1 e 9: \"))\n",
    "\n",
    "numero_utilizador *= 9\n",
    "\n",
    "numero_magico *= numero_utilizador\n",
    "\n",
    "print(numero_magico)\n",
    "\n",
    "\n",
    "\n",
    "\n"
   ]
  },
  {
   "cell_type": "code",
   "execution_count": null,
   "metadata": {},
   "outputs": [],
   "source": []
  }
 ],
 "metadata": {
  "anaconda-cloud": {},
  "kernelspec": {
   "display_name": "Python 3 (ipykernel)",
   "language": "python",
   "name": "python3"
  },
  "language_info": {
   "codemirror_mode": {
    "name": "ipython",
    "version": 3
   },
   "file_extension": ".py",
   "mimetype": "text/x-python",
   "name": "python",
   "nbconvert_exporter": "python",
   "pygments_lexer": "ipython3",
   "version": "3.12.4"
  }
 },
 "nbformat": 4,
 "nbformat_minor": 4
}
