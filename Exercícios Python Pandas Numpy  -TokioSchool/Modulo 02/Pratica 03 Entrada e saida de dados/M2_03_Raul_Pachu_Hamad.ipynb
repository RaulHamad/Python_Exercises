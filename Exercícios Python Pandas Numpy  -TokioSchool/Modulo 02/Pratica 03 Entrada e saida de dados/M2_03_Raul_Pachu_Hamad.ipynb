{
 "cells": [
  {
   "cell_type": "markdown",
   "metadata": {},
   "source": [
    "# Exercícios Módulo 2. Entrada e saída de dados (Soluções)\n",
    "\n",
    "Considerações a ter em conta:\n",
    "\n",
    "* Guardar este documento com o seguinte formato para entrega: __M2_04_nome_apelido1_apelido2__\n",
    "* Fazer os exercícios com as ferramentas vistas nas sessões. Ainda não chegámos às condicionais nem ciclos \n",
    "* Comentar o código\n",
    "* Utilizar nomes de variáveis apropriados, se vai guardar uma nota, chamar a essa variável nota, não n ou x"
   ]
  },
  {
   "cell_type": "markdown",
   "metadata": {},
   "source": [
    "**1) Utilizar o método input() para fazer as seguintes tarefas:**\n",
    "\n",
    "* Pedir um número por teclado, mostrar o resultado e o tipo (para saber em que tipo de dado captura a informação input()) \n",
    "* Pedir um número por teclado e assegurar que capturamos a informação em formato int\n",
    "* Pedir um número por teclado e assegurar-se de que capturamos a informação en formato float"
   ]
  },
  {
   "cell_type": "code",
   "execution_count": 27,
   "metadata": {},
   "outputs": [
    {
     "name": "stdout",
     "output_type": "stream",
     "text": [
      "Digite um número: 4\n",
      "4\n",
      "O tipo de dado é: <class 'str'>\n",
      "Digite um numero inteiro: 5\n",
      "<class 'int'>\n",
      "Digite um numero real: 6\n",
      "O tipo de dado inserido é: <class 'float'>\n"
     ]
    }
   ],
   "source": [
    "# Completar o exercício aqui\n",
    "numero = input(\"Digite um número: \")\n",
    "print(numero)\n",
    "print(f'O tipo de dado é: {type(numero)}')\n",
    "\n",
    "#Pedir um número por teclado e assegurar que capturamos a informação em formato int \n",
    "num_int = int(input(\"Digite um numero inteiro: \"))\n",
    "print(type(num_int))\n",
    "\n",
    "#Pedir um número por teclado e assegurar-se de que capturamos a informação en formato float\n",
    "\n",
    "num_float = input(\"Digite um numero real: \")\n",
    "num_float = float(num_float)\n",
    "print(f'O tipo de dado inserido é: {type(num_float)}')"
   ]
  },
  {
   "cell_type": "markdown",
   "metadata": {},
   "source": [
    "**2) Formatar os seguintes valores para mostrar o resultado indicado:**\n",
    "\n",
    "* “Olá Mundo” → Alinhado à direita em 20 caracteres\n",
    "* “Olá Mundo” → Truncagem no quarto carácter (índice 3)\n",
    "* “Olá Mundo” → Alinhamento ao centro em 20 caracteres com truncagem no segundo carácter (índice 1) \n",
    "* 150 → Formatar a 5 números inteiros preenchidos com zeros\n",
    "* 7887 → Formatar a 7 números inteiros preenchidos com espaços\n",
    "* 20.02 → Formatar a 3 números inteiros e 3 números decimais"
   ]
  },
  {
   "cell_type": "code",
   "execution_count": 5,
   "metadata": {},
   "outputs": [
    {
     "name": "stdout",
     "output_type": "stream",
     "text": [
      "“Olá Mundo” → Alinhado à direita em 20 caracteres\n",
      "           Olá Mundo\n",
      "“Olá Mundo” → Truncagem no quarto carácter (índice 3)\n",
      "Olá\n",
      "“Olá Mundo” → Alinhamento ao centro em 20 caracteres com truncagem no segundo carácter (índice 1)\n",
      "         O          \n",
      "150 → Formatar a 5 números inteiros preenchidos com zeros\n",
      "00150\n",
      "7887 → Formatar a 7 números inteiros preenchidos com espaços\n",
      "   7887\n",
      "20.02 → Formatar a 3 números inteiros e 3 números decimais\n",
      "020.020\n"
     ]
    }
   ],
   "source": [
    "# Completar o exercício aqui\n",
    "frase = \"Olá Mundo\"\n",
    "print(\"“Olá Mundo” → Alinhado à direita em 20 caracteres\")\n",
    "print('{:>20}'.format(frase))\n",
    "print(\"“Olá Mundo” → Truncagem no quarto carácter (índice 3)\")\n",
    "print('{:.3}'.format(frase))\n",
    "print(\"“Olá Mundo” → Alinhamento ao centro em 20 caracteres com truncagem no segundo carácter (índice 1)\")\n",
    "print('{:^20.1}'.format(frase))\n",
    "print(\"150 → Formatar a 5 números inteiros preenchidos com zeros\")\n",
    "variavel = 150\n",
    "print('{:05d}'.format(variavel))\n",
    "print(\"7887 → Formatar a 7 números inteiros preenchidos com espaços\")\n",
    "variavel_2 = 7887\n",
    "print('{:7d}'.format(variavel_2))\n",
    "print('20.02 → Formatar a 3 números inteiros e 3 números decimais')\n",
    "variavel_3 = 20.02\n",
    "print(\"{:07.3f}\".format(20.02))"
   ]
  },
  {
   "cell_type": "code",
   "execution_count": null,
   "metadata": {},
   "outputs": [],
   "source": []
  }
 ],
 "metadata": {
  "anaconda-cloud": {},
  "kernelspec": {
   "display_name": "Python 3 (ipykernel)",
   "language": "python",
   "name": "python3"
  },
  "language_info": {
   "codemirror_mode": {
    "name": "ipython",
    "version": 3
   },
   "file_extension": ".py",
   "mimetype": "text/x-python",
   "name": "python",
   "nbconvert_exporter": "python",
   "pygments_lexer": "ipython3",
   "version": "3.10.9"
  }
 },
 "nbformat": 4,
 "nbformat_minor": 1
}
