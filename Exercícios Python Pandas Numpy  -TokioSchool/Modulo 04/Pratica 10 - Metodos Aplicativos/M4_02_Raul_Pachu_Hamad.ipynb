{
 "cells": [
  {
   "cell_type": "markdown",
   "metadata": {},
   "source": [
    "# Exercícios Módulo 2. Unidade 2. Métodos aplicados (Soluções)\n",
    "\n",
    "Considerações a ter em conta:\n",
    "\n",
    "* Guardar este documento com o seguinte formato para entrega: __M4_02_nome_apelido1_apelido2__\n",
    "* Fazer os exercícios com as ferramentas vistas nas sessões. \n",
    "* Comentar o código\n",
    "* Utilizar nomes de variáveis apropriados, se vai guardar uma nota, chamar a essa variável nota, não n ou x"
   ]
  },
  {
   "cell_type": "markdown",
   "metadata": {},
   "source": [
    "**1) Solicitar um texto ao utilizador e dizer se:**\n",
    "* O texto é uma cadeia de texto\n",
    "* O texto é uma cadeia de dígitos\n",
    "* O texto inclui caracteres e números"
   ]
  },
  {
   "cell_type": "code",
   "execution_count": 15,
   "metadata": {},
   "outputs": [
    {
     "name": "stdout",
     "output_type": "stream",
     "text": [
      "Digite um texto: Olámundo\n",
      "-=-=-=Verificando se é uma cadeia de texto-=-=-=\n",
      "É um texto apenas com caracteres alfabéticos\n",
      " \n",
      "-=-=-=Verificando se é uma cadeia de números-=-=-=\n",
      "Não possui apenas números no texto \n",
      " \n",
      "-=-=-=Verificando se é uma cadeia de números ou caracter alfabético-=-=-=\n",
      "É um texto  com números ou caracter alfabético\n"
     ]
    }
   ],
   "source": [
    "# Completar o exercício aqui\n",
    "texto = input(\"Digite um texto: \")\n",
    "print(\"-=-=-=Verificando se é uma cadeia de texto-=-=-=\")\n",
    "verificar_alpha = texto.isalpha()\n",
    "if verificar_alpha is True:\n",
    "    print('É um texto apenas com caracteres alfabéticos')\n",
    "else:\n",
    "    print('Não possui apenas caracteres alfabéticos ')\n",
    "print(\" \")\n",
    "print(\"-=-=-=Verificando se é uma cadeia de números-=-=-=\")\n",
    "verificar_digit = texto.isdigit()\n",
    "if verificar_digit is True:\n",
    "    print('É um texto apenas com números')\n",
    "else:\n",
    "    print('Não possui apenas números no texto ')\n",
    "print(\" \")\n",
    "print(\"-=-=-=Verificando se é uma cadeia de números ou caracter alfabético-=-=-=\")\n",
    "verificar_alphanum = texto.isalnum()\n",
    "if verificar_alphanum is True:\n",
    "    print('É um texto  com números ou caracter alfabético')\n",
    "else:\n",
    "    print('Não possui números ou caracter alfabético ')\n"
   ]
  },
  {
   "cell_type": "markdown",
   "metadata": {},
   "source": [
    "**2) Solicitar ao utilizador um texto e uma palavra a pesquisar dentro do texto. Se a localizar, extrair desde essa posição até ao final da frase e armazená-lo noutra variável, e imprimir.** \n",
    "* Exemplo de texto: Olá mundo que tal \n",
    "* Pesquisamos: mundo\n",
    "* Resultado: mundo que tal"
   ]
  },
  {
   "cell_type": "code",
   "execution_count": 23,
   "metadata": {},
   "outputs": [
    {
     "name": "stdout",
     "output_type": "stream",
     "text": [
      "Digite um texto: Estou estudando python na tokioschool!!\n",
      "digite uma palavra para se pesquisar dentro do texto:ando\n",
      "ando python na tokioschool!!\n"
     ]
    }
   ],
   "source": [
    "# Completar o exercício aqui\n",
    "\n",
    "texto = input(\"Digite um texto: \")\n",
    "palavra_pesquisada = input(\"digite uma palavra para se pesquisar dentro do texto:\").strip()\n",
    "#print(texto.find(palavra_pesquisada))\n",
    "novo_texto = texto[texto.find(palavra_pesquisada):]\n",
    "print(novo_texto)\n"
   ]
  },
  {
   "cell_type": "markdown",
   "metadata": {},
   "source": [
    "**3) Partindo de uma stri com diferentes palavras separadas por espaços, criar uma lista onde cada elemento seja cada palavra do texto. Mostrar essa lista e mostrar o número de vezes que se encontra a palavra \"mundo\" nessa lista**\n",
    "\n",
    "* Texto = “Olá mundo mundo que tal mundo estás”\n",
    "* Resultado = 3"
   ]
  },
  {
   "cell_type": "code",
   "execution_count": 110,
   "metadata": {},
   "outputs": [
    {
     "name": "stdout",
     "output_type": "stream",
     "text": [
      "Olá mundo mundo que tal mundo estás\n",
      "['Olá', 'mundo', 'mundo', 'que', 'tal', 'mundo', 'estás']\n",
      "3\n",
      " \n",
      "35\n",
      "['Olá', 'mundo', 'mundo', 'que', 'tal', 'mundo', 'estás']\n",
      " A palavra \"mundo\" aparece 3 vezes.\n"
     ]
    }
   ],
   "source": [
    "# Completar o exercício aqui\n",
    "\"\"\"Partindo de uma frase com diferentes palavras separadas por espaços, criar uma lista onde os\n",
    "elementos sejam cada palavra do texto. Mostrar essa lista e o número de vezes que se encontra a\n",
    "palavra “mundo” nesta lista.\n",
    "\"\"\"\n",
    "\n",
    "texto = 'Olá mundo mundo que tal mundo estás'\n",
    "#Método usando função do python\n",
    "print(texto)\n",
    "lista = texto.split()\n",
    "print(lista)\n",
    "print(lista.count(\"mundo\"))\n",
    "print(\" \")\n",
    "print(len(texto))\n",
    "#Método manual\n",
    "cnt = 0\n",
    "lista =list()\n",
    "for i,j in enumerate(texto):\n",
    "    \n",
    "    if j == \" \":\n",
    "        lista.append(texto[(cnt):(i)])\n",
    "        cnt = i+1\n",
    "    if i == len(texto)-1:\n",
    "        lista.append(texto[(cnt):])\n",
    "cnt2 = 0\n",
    "print(lista)\n",
    "for i in lista:\n",
    "    if i == \"mundo\":\n",
    "        cnt2 += 1\n",
    "        \n",
    "print(f' A palavra \"mundo\" aparece {cnt2} vezes.')"
   ]
  },
  {
   "cell_type": "code",
   "execution_count": null,
   "metadata": {},
   "outputs": [],
   "source": []
  },
  {
   "cell_type": "code",
   "execution_count": null,
   "metadata": {},
   "outputs": [],
   "source": []
  }
 ],
 "metadata": {
  "anaconda-cloud": {},
  "kernelspec": {
   "display_name": "Python 3 (ipykernel)",
   "language": "python",
   "name": "python3"
  },
  "language_info": {
   "codemirror_mode": {
    "name": "ipython",
    "version": 3
   },
   "file_extension": ".py",
   "mimetype": "text/x-python",
   "name": "python",
   "nbconvert_exporter": "python",
   "pygments_lexer": "ipython3",
   "version": "3.10.9"
  }
 },
 "nbformat": 4,
 "nbformat_minor": 1
}
