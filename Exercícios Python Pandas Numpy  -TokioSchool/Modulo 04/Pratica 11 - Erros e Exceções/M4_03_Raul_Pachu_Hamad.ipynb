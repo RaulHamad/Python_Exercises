{
 "cells": [
  {
   "cell_type": "markdown",
   "metadata": {},
   "source": [
    "# Exercícios Módulo 4. Unidade 3. Erros e Exceções (Soluções)\n",
    "\n",
    "Considerações a ter em conta: \n",
    "\n",
    "* Guardar este documento com o seguinte formato para entrega: __M4_03_nome_apelido1_apelido2__\n",
    "* Fazer os exercícios com as ferramentas vistas nas sessões. \n",
    "* Comentar o código\n",
    "* Utilizar nomes de variáveis apropriados, se vai guardar uma nota, chamar a essa variável nota, não n ou x"
   ]
  },
  {
   "cell_type": "markdown",
   "metadata": {},
   "source": [
    "**1)  Localizar o erro no seguinte bloco de código. Criar uma exceção para evitar que o programa bloqueia e adicionar uma explicação numa mensagem ao utilizador com a causa e/ou solução::**"
   ]
  },
  {
   "cell_type": "code",
   "execution_count": 20,
   "metadata": {},
   "outputs": [
    {
     "name": "stdout",
     "output_type": "stream",
     "text": [
      "Não é possivel dividir um número por 0\n"
     ]
    }
   ],
   "source": [
    "# Completar o exercício aqui\n",
    "\n",
    "try:\n",
    "    resultado = 10/0\n",
    "except ZeroDivisionError:\n",
    "    print(f'Não é possivel dividir um número por 0')\n",
    "    \n",
    "else:\n",
    "    print(f'O resultado da divisão é igual a {resultado}')\n",
    "\n"
   ]
  },
  {
   "cell_type": "markdown",
   "metadata": {},
   "source": [
    "**2)  Localizar o erro no seguinte bloco de código. Criar uma exceção para evitar que o programa bloqueia e adicionar uma explicação numa mensagem ao utilizador com a causa e/ou solução::**"
   ]
  },
  {
   "cell_type": "code",
   "execution_count": 3,
   "metadata": {},
   "outputs": [
    {
     "name": "stdout",
     "output_type": "stream",
     "text": [
      "Indice fora do range da lista\n",
      "A lista possui 5 indices \n"
     ]
    }
   ],
   "source": [
    "# Completar o exercício aqui\n",
    "lista = [1, 2, 3, 4, 5]\n",
    "try:\n",
    "    lista[10]\n",
    "except IndexError:\n",
    "    print(\"Indice fora do range da lista\")\n",
    "    print(f'A lista possui {len(lista)} indices')"
   ]
  },
  {
   "cell_type": "markdown",
   "metadata": {},
   "source": [
    "**3)  Localizar o erro no seguinte bloco de código. Criar uma exceção para evitar que o programa bloqueia e adicionar uma explicação numa mensagem ao utilizador com a causa e/ou solução::**"
   ]
  },
  {
   "cell_type": "code",
   "execution_count": 22,
   "metadata": {},
   "outputs": [
    {
     "name": "stdout",
     "output_type": "stream",
     "text": [
      "Não existe a chave 'Branco' na lista\n",
      "Digite uma key válida\n"
     ]
    }
   ],
   "source": [
    "# Completar o exercício aqui\n",
    "cores = { 'vermelho':'red', 'verde':'green', 'preto':'black'  }\n",
    "try:\n",
    "    cores['branco']\n",
    "except KeyError:\n",
    "    print(\"Não existe a chave 'Branco' na lista\")\n",
    "    print(\"Digite uma key válida\")"
   ]
  },
  {
   "cell_type": "markdown",
   "metadata": {},
   "source": [
    "**4) Localizar o erro no seguinte bloco de código. Criar uma exceção para evitar que o programa bloqueia e adicionar uma explicação numa mensagem ao utilizador com a causa e/ou solução::**"
   ]
  },
  {
   "cell_type": "code",
   "execution_count": 18,
   "metadata": {},
   "outputs": [
    {
     "name": "stdout",
     "output_type": "stream",
     "text": [
      "Não pode concatenar str + int\n",
      "Utilize int(\"20\") para converter str em int\n",
      "Ex.: int(20) + 15\n"
     ]
    }
   ],
   "source": [
    "# Completar o exercício aqui\n",
    "try:\n",
    "    resultado = \"20\" + 15\n",
    "except TypeError:\n",
    "    print(\"Não pode concatenar str + int\")\n",
    "    print('Utilize int(\"20\") para converter str em int')\n",
    "    print(\"Ex.: int(20) + 15\")"
   ]
  },
  {
   "cell_type": "markdown",
   "metadata": {},
   "source": [
    "**5)  Realizar uma função chamada agregar_uma_vez() que receba uma lista e um elemento como argumento. A função deve adicionar o elemento ao final da lista com a condição de não repetir nenhum elemento. Se este elemento já se encontra na lista deve-se invocar um erro de tipo ValueError que deve capturar e mostrar esta mensagem no seu lugar:**\n",
    "\n",
    "```\n",
    "  Erro: Impossível adicionar elementos duplicados => [elemento].\n",
    "```\n",
    "**Teste agregar os elementos 10, -2, “Olá” à lista de elementos com a função que criou e mostrar o seu conteúdo**\n",
    "\n",
    "*Pista: Pode utilizar a sintaxis: elemento in lista*"
   ]
  },
  {
   "cell_type": "code",
   "execution_count": 28,
   "metadata": {},
   "outputs": [
    {
     "name": "stdout",
     "output_type": "stream",
     "text": [
      "[1, 5, -2, 10]\n",
      "Erro: Impossível adicionar elementos duplicados => -2\n",
      "[1, 5, -2, 10]\n",
      "[1, 5, -2, 10, 'Olá']\n"
     ]
    }
   ],
   "source": [
    "# Completar o exercício aqui\n",
    "elementos = [1, 5, -2]\n",
    "\n",
    "def agregar_uma_vez(lista,elemento):\n",
    "    try:   \n",
    "        for i in lista:\n",
    "            if elemento  in lista:\n",
    "                raise ValueError\n",
    "                \n",
    "            else:\n",
    "                elementos.append(elemento)\n",
    "                break\n",
    "            \n",
    "    except ValueError:\n",
    "        print(f'Erro: Impossível adicionar elementos duplicados => {elemento}')\n",
    "    print(lista)\n",
    "\n",
    "\n",
    "            \n",
    "agregar_uma_vez(elementos,10)\n",
    "\n",
    "agregar_uma_vez(elementos,-2)\n",
    "\n",
    "agregar_uma_vez(elementos,\"Olá\")\n",
    "\n",
    "\n",
    "\n",
    "    "
   ]
  },
  {
   "cell_type": "markdown",
   "metadata": {},
   "source": [
    "**6) Pesquisa na documentação outra exceção que não se utilizou até agora e realiza os seguintes passos:**\n",
    "* Provocar o erro num código de exemplo.\n",
    "* Uma vez que as tenha provocado, controlá-las com try-except \n",
    "* Mostrar ao utilizador com uma mensagem personalizada, que estará dentro do except. "
   ]
  },
  {
   "cell_type": "code",
   "execution_count": 39,
   "metadata": {},
   "outputs": [
    {
     "name": "stdout",
     "output_type": "stream",
     "text": [
      "A função 'Capitalize' não é atributo de um int\n",
      "Python\n"
     ]
    }
   ],
   "source": [
    "# Completar o exercício aqui\n",
    "\n",
    "\n",
    "def capitalize(str):\n",
    "    try:\n",
    "        cap = str.capitalize()\n",
    "        print(cap)\n",
    "    except AttributeError:\n",
    "        print(\"A função 'Capitalize' não é atributo de um int\")\n",
    "    \n",
    "capitalize(123)\n",
    "capitalize(\"python\")\n"
   ]
  },
  {
   "cell_type": "code",
   "execution_count": null,
   "metadata": {},
   "outputs": [],
   "source": []
  },
  {
   "cell_type": "code",
   "execution_count": null,
   "metadata": {},
   "outputs": [],
   "source": []
  }
 ],
 "metadata": {
  "anaconda-cloud": {},
  "kernelspec": {
   "display_name": "Python 3 (ipykernel)",
   "language": "python",
   "name": "python3"
  },
  "language_info": {
   "codemirror_mode": {
    "name": "ipython",
    "version": 3
   },
   "file_extension": ".py",
   "mimetype": "text/x-python",
   "name": "python",
   "nbconvert_exporter": "python",
   "pygments_lexer": "ipython3",
   "version": "3.10.9"
  }
 },
 "nbformat": 4,
 "nbformat_minor": 1
}
