{
 "cells": [
  {
   "cell_type": "markdown",
   "metadata": {},
   "source": [
    "# Exercícios Módulo 4. Unidade 4. Dados temporais (Soluções)\n",
    "\n",
    "Considerações a ter em conta:\n",
    "\n",
    "* Guardar este documento com o seguinte formato para entrega: __M4_04_nome_apelido1_apelido2__\n",
    "* Fazer os exercícios com as ferramentas vistas nas sessões. \n",
    "* Comentar o código\n",
    "* Utilizar nomes de variáveis apropriados, se vai guardar uma nota, chamar a essa variável nota, não n ou x"
   ]
  },
  {
   "cell_type": "markdown",
   "metadata": {},
   "source": [
    "**1)  Dadas as duas seguintes datas, que correspondem às datas de nascimento de dois irmãos (na zona horária de Europa/Lisbon), indica qual é a diferença entre eles em dias, horas, minutos e segundos**"
   ]
  },
  {
   "cell_type": "code",
   "execution_count": 20,
   "metadata": {},
   "outputs": [
    {
     "name": "stdout",
     "output_type": "stream",
     "text": [
      "Europe/Lisbon\n",
      "2440 days, 0:35:00\n",
      "A diferença de idades entre os dois filhos, são de 2440 dias e 35.0 minutos\n"
     ]
    }
   ],
   "source": [
    "# Completar o exercício aqui \n",
    "from datetime import datetime\n",
    "import pytz\n",
    "print(pytz.timezone('Europe/Lisbon'))\n",
    "filho1 = datetime(1985, 10, 20, 17, 55)\n",
    "filho2 = datetime(1992, 6, 25, 18, 30)\n",
    "\n",
    "# Completar o exercício aqui\n",
    "zona_horaria = pytz.timezone('Europe/Lisbon')\n",
    "diferenca_idades = filho2 - filho1\n",
    "print(diferenca_idades)\n",
    "print(f'A diferença de idades entre os dois filhos, são de {diferenca_idades.days} dias e {(diferenca_idades.seconds)/60} minutos')\n"
   ]
  },
  {
   "cell_type": "markdown",
   "metadata": {},
   "source": [
    "**2) Criar uma função que se chame formato_data() que receba por parâmetro uma data do tipo datetime e nos devolva o seguinte formato: “20 de abril de 2020”.**\n",
    "\n",
    "**Em muitas ocasiões os nossos sistemas estão configurados de forma pré-determinada em inglês, e não se pode mudar a localidade para português. Portanto, temos que aprender a selecionar e mostrar os meses em português apesar do nosso sistema se encontrarem inglês ou noutro idioma.** \n",
    "\n",
    "**Criar uma tupla para armazenar a listagem de meses em português para poder selecionar o nome do mês adequado em função a uma data que lhe proporcionemos à função. Fica proibido de utilizar métodos como locale, setlocale ou strftime.**\n",
    "\n",
    "**Experimentar a função enviando-lhe uma data pré-definida por si e a data atual (now)**"
   ]
  },
  {
   "cell_type": "code",
   "execution_count": 25,
   "metadata": {},
   "outputs": [
    {
     "name": "stdout",
     "output_type": "stream",
     "text": [
      "19 de Julho de 2020\n",
      "20 de Junho de 2023\n"
     ]
    }
   ],
   "source": [
    "# Completar o exercício aqui\n",
    "from datetime import datetime\n",
    "\n",
    "def formato_hora(data):\n",
    "    meses= (\"Janeiro\",\"Fevereiro\",\"Março\",\"Abril\"\n",
    "        ,\"Maio\",\"Junho\",\"Julho\",\"Agosto\",\"Setembro\",\n",
    "        \"Outubro\",\"Novembro\",\"Dezembro\")    \n",
    "    return f'{data.day} de {meses[(data.month)-1]} de {data.year}'\n",
    "    \n",
    "    \n",
    "hora1 = datetime(2020,7,19)\n",
    "print(formato_hora(hora1))\n",
    "data_hoje = datetime.now()\n",
    "print(formato_hora(data_hoje))"
   ]
  },
  {
   "cell_type": "markdown",
   "metadata": {},
   "source": [
    "**3) Utilizando strftime, formate a data atual para que saia com o seguinte formato:**\n",
    "* Dia: 20\n",
    "* Mês: 04\n",
    "* Ano: 2020\n",
    "* Hora: 16\n",
    "* Minutos: 19\n",
    "* Segundos (e milissegundos): 08.879057"
   ]
  },
  {
   "cell_type": "code",
   "execution_count": 2,
   "metadata": {
    "scrolled": true
   },
   "outputs": [
    {
     "name": "stdout",
     "output_type": "stream",
     "text": [
      "Dia: 21\n",
      "Mês: 06\n",
      "Ano: 2023\n",
      "Hora: 21\n",
      "Minutos: 52\n",
      "Segundos(e milisegundos): 10,605478\n"
     ]
    }
   ],
   "source": [
    "# Completar o exercício aqui\n",
    "from datetime import datetime\n",
    "\n",
    "data_hora_hoje = datetime.now()\n",
    "\n",
    "print(f'Dia: {data_hora_hoje.day}\\nMês: {data_hora_hoje.month:02d}\\nAno: {data_hora_hoje.year}\\nHora: {data_hora_hoje.hour}\\nMinutos: {data_hora_hoje.minute}\\nSegundos(e milisegundos): {data_hora_hoje.second},{data_hora_hoje.microsecond}')"
   ]
  },
  {
   "cell_type": "code",
   "execution_count": null,
   "metadata": {},
   "outputs": [],
   "source": []
  },
  {
   "cell_type": "code",
   "execution_count": null,
   "metadata": {},
   "outputs": [],
   "source": []
  }
 ],
 "metadata": {
  "anaconda-cloud": {},
  "kernelspec": {
   "display_name": "Python 3 (ipykernel)",
   "language": "python",
   "name": "python3"
  },
  "language_info": {
   "codemirror_mode": {
    "name": "ipython",
    "version": 3
   },
   "file_extension": ".py",
   "mimetype": "text/x-python",
   "name": "python",
   "nbconvert_exporter": "python",
   "pygments_lexer": "ipython3",
   "version": "3.10.9"
  }
 },
 "nbformat": 4,
 "nbformat_minor": 1
}
