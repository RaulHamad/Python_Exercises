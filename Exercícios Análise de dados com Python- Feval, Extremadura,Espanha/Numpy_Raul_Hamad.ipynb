{
  "nbformat": 4,
  "nbformat_minor": 0,
  "metadata": {
    "colab": {
      "provenance": [],
      "toc_visible": true
    },
    "kernelspec": {
      "name": "python3",
      "display_name": "Python 3"
    },
    "language_info": {
      "name": "python"
    }
  },
  "cells": [
    {
      "cell_type": "code",
      "execution_count": null,
      "metadata": {
        "id": "FOeEjHrZ-Zz_",
        "outputId": "9407b52f-2495-4dd0-ab58-614cb577301b",
        "colab": {
          "base_uri": "https://localhost:8080/"
        }
      },
      "outputs": [
        {
          "output_type": "stream",
          "name": "stdout",
          "text": [
            "Hello World\n"
          ]
        }
      ],
      "source": [
        "print(\"Hello World\")"
      ]
    },
    {
      "cell_type": "markdown",
      "source": [
        "# Clase 01\n"
      ],
      "metadata": {
        "id": "RvXWFck15Fb4"
      }
    },
    {
      "cell_type": "code",
      "source": [],
      "metadata": {
        "id": "o-2YTfWfUoFD"
      },
      "execution_count": null,
      "outputs": []
    },
    {
      "cell_type": "code",
      "source": [
        "celsius = [0,10,20,30,40]"
      ],
      "metadata": {
        "id": "PeLfaL5cUkKb"
      },
      "execution_count": null,
      "outputs": []
    },
    {
      "cell_type": "code",
      "source": [
        "far = [(x*(9/5))+32 for x in celsius]"
      ],
      "metadata": {
        "id": "xVySk1wJUozF"
      },
      "execution_count": null,
      "outputs": []
    },
    {
      "cell_type": "code",
      "source": [
        "print(far)"
      ],
      "metadata": {
        "colab": {
          "base_uri": "https://localhost:8080/"
        },
        "id": "w8geU0WIU-45",
        "outputId": "36ec4f49-4f5d-440d-ee42-665b1324ef6e"
      },
      "execution_count": null,
      "outputs": [
        {
          "output_type": "stream",
          "name": "stdout",
          "text": [
            "[32.0, 50.0, 68.0, 86.0, 104.0]\n"
          ]
        }
      ]
    },
    {
      "cell_type": "code",
      "source": [
        "# Conteo de frecuencias\n",
        "palabras = [\"manzana\", \"naranja\", \"manzana\", \"pera\", \"naranja\", \"manzana\"]"
      ],
      "metadata": {
        "id": "kcqXJ7PKZJP_"
      },
      "execution_count": null,
      "outputs": []
    },
    {
      "cell_type": "code",
      "source": [
        "dicci = {}\n",
        "for i in palabras:\n",
        "  dicci[i]= dicci.get(i,0)+1\n",
        "\n",
        "print(dicci)"
      ],
      "metadata": {
        "colab": {
          "base_uri": "https://localhost:8080/"
        },
        "id": "SPnTQVv-ZNQG",
        "outputId": "2885e486-8b3f-472e-b464-8263a75c4114"
      },
      "execution_count": null,
      "outputs": [
        {
          "output_type": "stream",
          "name": "stdout",
          "text": [
            "{'manzana': 3, 'naranja': 2, 'pera': 1}\n"
          ]
        }
      ]
    },
    {
      "cell_type": "markdown",
      "source": [
        "# Clase 02"
      ],
      "metadata": {
        "id": "7fu6c5jP9nQK"
      }
    },
    {
      "cell_type": "code",
      "source": [
        "def tiene_duplicado(lista):\n",
        "  conjunto = set(lista)\n",
        "\n",
        "  if len(conjunto) == len(lista):\n",
        "    print(f'La lista {lista} no tiene duplicatos')\n",
        "  else:\n",
        "    print(f'La lista {lista} tiene duplicatos')"
      ],
      "metadata": {
        "id": "q1bNsqX_Znjy"
      },
      "execution_count": null,
      "outputs": []
    },
    {
      "cell_type": "code",
      "source": [
        "lista_a = [1, 2, 3, 4, 5]\n",
        "lista_b = [4, 5, 6, 7, 8]"
      ],
      "metadata": {
        "id": "kzx-cNT29rG3"
      },
      "execution_count": null,
      "outputs": []
    },
    {
      "cell_type": "code",
      "source": [
        "tiene_duplicado(lista_a)"
      ],
      "metadata": {
        "colab": {
          "base_uri": "https://localhost:8080/"
        },
        "id": "t5z5L8WhETHI",
        "outputId": "c2cad371-5b3d-4678-fdc1-c57f844e52b4"
      },
      "execution_count": null,
      "outputs": [
        {
          "output_type": "stream",
          "name": "stdout",
          "text": [
            "La lista [1, 2, 3, 4, 5] no tiene duplicatos\n"
          ]
        }
      ]
    },
    {
      "cell_type": "code",
      "source": [
        "tiene_duplicado(lista_b)"
      ],
      "metadata": {
        "colab": {
          "base_uri": "https://localhost:8080/"
        },
        "id": "mPXnPr-9EcFg",
        "outputId": "330af3c6-ec6f-4985-e646-982518ccacdd"
      },
      "execution_count": null,
      "outputs": [
        {
          "output_type": "stream",
          "name": "stdout",
          "text": [
            "La lista [4, 5, 6, 7, 8] no tiene duplicatos\n"
          ]
        }
      ]
    },
    {
      "cell_type": "code",
      "source": [
        "print(set(lista_a) - set(lista_b))\n",
        "print(set(lista_b) - set(lista_a))\n",
        "print(set(lista_a) ^ set(lista_b))"
      ],
      "metadata": {
        "colab": {
          "base_uri": "https://localhost:8080/"
        },
        "id": "gZI0XwavGB4p",
        "outputId": "bdf4e84c-b2fc-4287-a5c9-1429e7ddf294"
      },
      "execution_count": null,
      "outputs": [
        {
          "output_type": "stream",
          "name": "stdout",
          "text": [
            "{1, 2, 3}\n",
            "{8, 6, 7}\n",
            "{1, 2, 3, 6, 7, 8}\n"
          ]
        }
      ]
    },
    {
      "cell_type": "markdown",
      "source": [
        "Análisis de Calificaciones\n",
        "Utilizando lo aprendido sobre diccionarios y listas, escribe una función que analice un conjunto de calificaciones de estudiantes y devuelva:\n",
        "\n",
        "El promedio de calificaciones\n",
        "La calificación más alta y la más baja\n",
        "Un diccionario con los estudiantes agrupados por categoría:\n",
        "\"Excelente\": >=9\n",
        "\"Bueno\": >=7 y <9\n",
        "\"Regular\": >=6 y <7\n",
        "\"Reprobado\": <6\n",
        "Datos de entrada:"
      ],
      "metadata": {
        "id": "ec3as6kqKC29"
      }
    },
    {
      "cell_type": "code",
      "source": [
        "calificaciones = [\n",
        "    {\"nombre\": \"Ana\", \"calificacion\": 9.5},\n",
        "    {\"nombre\": \"Carlos\", \"calificacion\": 8.2},\n",
        "    {\"nombre\": \"Eva\", \"calificacion\": 7.8},\n",
        "    {\"nombre\": \"David\", \"calificacion\": 5.9},\n",
        "    {\"nombre\": \"Beatriz\", \"calificacion\": 6.5},\n",
        "    {\"nombre\": \"Fernando\", \"calificacion\": 9.2},\n",
        "    {\"nombre\": \"Gabriela\", \"calificacion\": 4.8},\n",
        "    {\"nombre\": \"Héctor\", \"calificacion\": 7.0}\n",
        "]"
      ],
      "metadata": {
        "id": "F0lvpSwUKD05"
      },
      "execution_count": null,
      "outputs": []
    },
    {
      "cell_type": "code",
      "source": [
        "def analizar_calificaciones(calificaciones):\n",
        "  notas = [i[\"calificacion\"] for i in calificaciones]\n",
        "  promedio = sum(notas)/len(notas)\n",
        "  nota_min = min(notas)\n",
        "  nota_max = max(notas)\n",
        "  por_categoria = {\n",
        "      \"Excelente\": [],\n",
        "      \"Bueno\": [],\n",
        "      \"Regular\": [],\n",
        "      \"Reprobado\": []\n",
        "  }\n",
        "\n",
        "  for estudiantes in calificaciones:\n",
        "    nota = estudiantes[\"calificacion\"]\n",
        "    nombre = estudiantes[\"nombre\"]\n",
        "    if nota >= 9:\n",
        "      por_categoria[\"Excelente\"].append(nombre)\n",
        "    elif nota>= 7:\n",
        "      por_categoria[\"Bueno\"].append(nombre)\n",
        "    elif nota >= 6:\n",
        "      por_categoria[\"Regular\"].append(nombre)\n",
        "    else:\n",
        "      por_categoria[\"Reprobado\"].append(nombre)\n",
        "\n",
        "  return {\n",
        "    \"promedio\": promedio,\n",
        "    \"maxima\": nota_max,\n",
        "    \"minima\": nota_min,\n",
        "    \"por_categoria\": por_categoria\n",
        "}\n"
      ],
      "metadata": {
        "id": "ext3YPLKKLDC"
      },
      "execution_count": null,
      "outputs": []
    },
    {
      "cell_type": "code",
      "source": [
        "analizar_calificaciones(calificaciones)"
      ],
      "metadata": {
        "colab": {
          "base_uri": "https://localhost:8080/"
        },
        "id": "KSC4HEE3KwfB",
        "outputId": "0e926abd-abfd-4d3d-843e-42a19d33d6a6"
      },
      "execution_count": null,
      "outputs": [
        {
          "output_type": "execute_result",
          "data": {
            "text/plain": [
              "{'promedio': 7.362499999999999,\n",
              " 'maxima': 9.5,\n",
              " 'minima': 4.8,\n",
              " 'por_categoria': {'Excelente': ['Ana', 'Fernando'],\n",
              "  'Bueno': ['Carlos', 'Eva', 'Héctor'],\n",
              "  'Regular': ['Beatriz'],\n",
              "  'Reprobado': ['David', 'Gabriela']}}"
            ]
          },
          "metadata": {},
          "execution_count": 19
        }
      ]
    },
    {
      "cell_type": "markdown",
      "source": [
        "# Clase 03\n"
      ],
      "metadata": {
        "id": "J9hC7U7SBG_T"
      }
    },
    {
      "cell_type": "markdown",
      "source": [
        "Transformación y filtrado de datos de ventas\n",
        "Enunciado:\n",
        "\n",
        "Crea una función llamada procesar_ventas que procese registros de ventas. La función debe:\n",
        "\n",
        "Recibir como parámetro una lista de diccionarios, donde cada diccionario representa una venta con los campos:\n",
        "\n",
        "id: Identificador único de la venta (entero)\n",
        "\n",
        "producto: Nombre del producto (cadena)\n",
        "\n",
        "cantidad: Cantidad vendida (entero)\n",
        "\n",
        "precio_unitario: Precio por unidad (flotante)\n",
        "\n",
        "fecha: Fecha de la venta en formato \"YYYY-MM-DD\" (cadena)\n",
        "\n",
        "Permitir un segundo parámetro opcional categoria_filtro que, si se proporciona, filtrará las ventas para incluir solo aquellas cuyo nombre de producto contenga esa categoría (subcadena).\n",
        "\n",
        "Calcular y devolver un diccionario con:\n",
        "\n",
        "total_ventas: Suma del valor total de todas las ventas (cantidad × precio_unitario)\n",
        "\n",
        "producto_mas_vendido: Nombre del producto con mayor cantidad total vendida\n",
        "\n",
        "venta_promedio: Valor promedio de las ventas individuales\n",
        "\n",
        "ventas_por_mes: Diccionario con la suma de ventas agrupadas por mes (formato \"YYYY-MM\")\n"
      ],
      "metadata": {
        "id": "rwcxxrXyOYVu"
      }
    },
    {
      "cell_type": "code",
      "source": [
        "ventas = [\n",
        "    {\"id\": 1, \"producto\": \"Laptop HP\", \"cantidad\": 2, \"precio_unitario\": 800, \"fecha\": \"2023-01-15\"},\n",
        "    {\"id\": 2, \"producto\": \"Mouse Logitech\", \"cantidad\": 5, \"precio_unitario\": 20, \"fecha\": \"2023-01-20\"},\n",
        "    {\"id\": 3, \"producto\": \"Teclado Logitech\", \"cantidad\": 3, \"precio_unitario\": 30, \"fecha\": \"2023-02-10\"},\n",
        "    {\"id\": 4, \"producto\": \"Monitor Dell\", \"cantidad\": 2, \"precio_unitario\": 200, \"fecha\": \"2023-02-15\"},\n",
        "    {\"id\": 5, \"producto\": \"Laptop Lenovo\", \"cantidad\": 1, \"precio_unitario\": 900, \"fecha\": \"2023-03-05\"}\n",
        "]"
      ],
      "metadata": {
        "id": "KthQdptGOhXh"
      },
      "execution_count": null,
      "outputs": []
    },
    {
      "cell_type": "code",
      "source": [
        "from collections import defaultdict\n",
        "def procesar_ventas(ventas, categoria_filtro=None):\n",
        "  \"\"\"\n",
        "  Procesa registros de ventas, opcionalmente filtrando por categoría de producto.\n",
        "\n",
        "  Args:\n",
        "      ventas: Lista de diccionarios con información de ventas\n",
        "      categoria_filtro: Si se proporciona, filtra ventas para incluir solo\n",
        "                        productos que contengan esta subcadena\n",
        "\n",
        "  Returns:\n",
        "      Diccionario con estadísticas de ventas\n",
        "  \"\"\"\n",
        "   # Filtrar ventas si se proporciona una categoría\n",
        "  # Recomendable utilizar list comprehension\n",
        "  if categoria_filtro:\n",
        "    ventas_filtradas = [venta for venta in ventas\n",
        "                        if categoria_filtro.lower() in venta[\"producto\"].lower()]\n",
        "  else:\n",
        "    ventas_filtradas = ventas\n",
        "\n",
        "  if not ventas_filtradas:\n",
        "    return {\n",
        "        \"total_ventas\": 0,\n",
        "        \"producto_mas_vendido\": None,\n",
        "        \"venta_promedio\": 0,\n",
        "        \"ventas_por_mes\": {}\n",
        "    }\n",
        "  # Calcular total de ventas\n",
        "  total_ventas = sum(venta[\"cantidad\"] * venta[\"precio_unitario\"] for venta in ventas)\n",
        "  # Calcular producto más vendido\n",
        "\n",
        "  ventas_por_producto = defaultdict(int)\n",
        "  for venta in ventas_filtradas:\n",
        "    ventas_por_producto[venta[\"producto\"]] += venta[\"cantidad\"]\n",
        "\n",
        "  if ventas_por_producto:\n",
        "    producto_mas_vendido = max(ventas_por_producto, key=ventas_por_producto.get)\n",
        "  # Calcular venta promedio\n",
        "  ventas_promedio = round(total_ventas/sum(venta[\"cantidad\"] for venta in ventas),2)\n",
        "  # Agrupar vetas por mes (ayudarse de slicing)\n",
        "  ventas_por_mes = defaultdict(float)\n",
        "  for venta in ventas_filtradas:\n",
        "    mes = venta[\"fecha\"][:7]\n",
        "    ventas_por_mes[mes] += venta[\"cantidad\"] * venta[\"precio_unitario\"]\n",
        "\n",
        "  return {\n",
        "      \"Total_Ventas\":total_ventas,\n",
        "      \"Producto_mas_vendido\": producto_mas_vendido,\n",
        "      \"venta_promedio\": ventas_promedio,\n",
        "      \"ventas_por_mes\": dict(ventas_por_mes)\n",
        "  }\n",
        "\n",
        "\n",
        "resultado = procesar_ventas(ventas)\n",
        "print(\"Todas las ventas:\")\n",
        "print(resultado)\n",
        "\n",
        "resultado_filtrado = procesar_ventas(ventas, \"Laptop\")\n",
        "print(\"\\nSolo laptops:\")\n",
        "print(resultado_filtrado)\n"
      ],
      "metadata": {
        "colab": {
          "base_uri": "https://localhost:8080/"
        },
        "id": "G_tw-Ma6BKDx",
        "outputId": "28fb6431-b6ac-4cdb-bf61-a85bfd3bea17"
      },
      "execution_count": null,
      "outputs": [
        {
          "output_type": "stream",
          "name": "stdout",
          "text": [
            "Todas las ventas:\n",
            "{'Total_Ventas': 3090, 'Producto_mas_vendido': 'Mouse Logitech', 'venta_promedio': 237.69, 'ventas_por_mes': {'2023-01': 1700.0, '2023-02': 490.0, '2023-03': 900.0}}\n",
            "\n",
            "Solo laptops:\n",
            "{'Total_Ventas': 3090, 'Producto_mas_vendido': 'Laptop HP', 'venta_promedio': 237.69, 'ventas_por_mes': {'2023-01': 1600.0, '2023-03': 900.0}}\n"
          ]
        }
      ]
    },
    {
      "cell_type": "markdown",
      "source": [
        "#NUMPY\n",
        "\n",
        "Fundamentos de los Arrays en NumPy\n",
        "\n",
        "Cálculos con Arrays: Funciones Universales (ufuncs)\n",
        "\n",
        "Operaciones en Arrays: Agregación de Datos\n",
        "\n",
        "Operaciones en Arrays: Difusión de Datos (Broadcasting)\n",
        "\n",
        "Arrays Booleanos y Máscaras\n",
        "\n",
        "Indexación Avanzada en NumPy\n",
        "\n",
        "Ordenamiento de Arrays en NumPy\n",
        "\n",
        "Datos Estructurados en NumPy"
      ],
      "metadata": {
        "id": "glDfHeqth9Ji"
      }
    },
    {
      "cell_type": "markdown",
      "source": [
        "Ejercicio 1: Manipulación básica de arrays\n",
        "En este ejercicio trabajarás con las operaciones básicas de creación, indexación y modificación de arrays NumPy.\n",
        "\n",
        "import numpy as np\n",
        "np.random.seed(42)  # Para reproducibilidad\n",
        "\n",
        "# 1.1 Crea un array unidimensional con los números del 1 al 10\n",
        "###**array_1 = np.arange(1,11)**\n",
        "\n",
        "# 1.2 Crea un array bidimensional de tamaño 3x4 con números aleatorios enteros entre 0 y 100\n",
        "### **array_2 = np.random.randint(0,101,(3,4))**\n",
        "\n",
        "# 1.3 Accede al elemento en la posición (1,2) del array bidimensional\n",
        "### **array_2[1,2]**\n",
        "\n",
        "# 1.4 Modifica todos los elementos de la primera fila del array bidimensional para que sean igual a 0\n",
        "### **array_2[0] = 0**\n",
        "\n",
        "# 1.5 Imprime los atributos ndim, shape, size y dtype del array bidimensional\n",
        "### **print(array_2.ndim)**\n",
        "### **print(array_2.shape)**\n",
        "### **print(array_2.size)**\n",
        "### **print(array_2.dtype)**"
      ],
      "metadata": {
        "id": "A_SZaEUuqrkX"
      }
    },
    {
      "cell_type": "code",
      "source": [
        "import numpy as np\n",
        "np.random.seed(42)\n",
        "# np.random.randint"
      ],
      "metadata": {
        "id": "GlRl_RZXUlyW"
      },
      "execution_count": null,
      "outputs": []
    },
    {
      "cell_type": "code",
      "source": [
        "array_1 = np.arange(1,11)\n",
        "\n",
        "array_2 = np.random.randint(0,101,(3,4))\n",
        "print(array_2)\n",
        "print(array_2[1,2])\n",
        "\n",
        "\n",
        "array_2[0] = 0\n",
        "print(array_2)\n",
        "print(array_2.ndim)\n",
        "print(array_2.shape)\n",
        "print(array_2.size)\n",
        "print(array_2.dtype)\n"
      ],
      "metadata": {
        "colab": {
          "base_uri": "https://localhost:8080/"
        },
        "id": "es5Np4bxrCTI",
        "outputId": "c348d9a3-6b22-4256-f1df-e8b5613ed790"
      },
      "execution_count": null,
      "outputs": [
        {
          "output_type": "stream",
          "name": "stdout",
          "text": [
            "[[51 92 14 71]\n",
            " [60 20 82 86]\n",
            " [74 74 87 99]]\n",
            "82\n",
            "[[ 0  0  0  0]\n",
            " [60 20 82 86]\n",
            " [74 74 87 99]]\n",
            "2\n",
            "(3, 4)\n",
            "12\n",
            "int64\n"
          ]
        }
      ]
    },
    {
      "cell_type": "markdown",
      "source": [
        "Ejercicio 2: Slicing y vistas de arrays\n",
        "Este ejercicio te ayudará a comprender mejor el funcionamiento del slicing en NumPy y la diferencia entre vistas y copias de arrays.\n",
        "\n",
        "import numpy as np\n",
        "\n",
        "# **Crea una matriz de 5x5 con valores del 1 al 25**\n",
        "###matriz = np.arange(1, 26).reshape(5, 5)\n",
        "###print(\"Matriz original:\")\n",
        "###print(matriz)\n",
        "\n",
        "# **2.1 Extrae una submatriz de 3x3 que contenga los elementos centrales de la matriz original**\n",
        "### submatriz = matriz[1:4,1:4]\n",
        "\n",
        "# **2.2 Modifica todos los elementos de la submatriz para que sean igual a 0 y observa qué pasa con la matriz original**\n",
        "### matriz[1:4,1:4] = 0\n",
        "###print(submatriz)\n",
        "###print(matriz)\n",
        "\n",
        "# **2.3 Ahora crea una copia explícita de la submatriz central (3x3)**\n",
        "### matriz_copia = matriz[1:4,1:4].copy()\n",
        "\n",
        "# **2.4 Modifica los elementos de la copia para que sean igual a 99 y verifica que la matriz original no cambia**\n",
        "### matriz_copia[:,:] = 99\n",
        "\n",
        "# **2.5 Extrae la última columna de la matriz original**\n",
        "### print(matriz[:,-1:])\n",
        "\n",
        "# **2.6 Extrae las filas pares de la matriz original (filas 0, 2, 4)**\n",
        "### print(matriz[:,::2])"
      ],
      "metadata": {
        "id": "VKTqJbBNuIyM"
      }
    },
    {
      "cell_type": "code",
      "source": [
        "matriz = np.arange(1, 26).reshape(5, 5)\n",
        "print(\"Matriz Original:\")\n",
        "print(matriz)\n",
        "submatriz = matriz[1:4,1:4]\n",
        "print(\"SubMatriz\")\n",
        "print(submatriz)\n",
        "matriz_copia = matriz[1:4,1:4].copy()\n",
        "matriz[1:4,1:4] = 0\n",
        "print(\"SubMatriz alterada por slice\")\n",
        "print(submatriz)\n",
        "print(\"Matriz Original\")\n",
        "print(matriz)\n",
        "print(\"Matriz Copia\")\n",
        "print(matriz_copia)\n",
        "matriz_copia[:,:] = 99\n",
        "print(\"Matriz Copia alteración 99\")\n",
        "print(matriz_copia)\n",
        "print(\"Matriz Original\")\n",
        "print(matriz)\n",
        "print(\"Extrair la ultima columna de la matriz original\")\n",
        "print(matriz[:,-1:])\n",
        "print(\"Extrair las columnas pares de la matriz original\")\n",
        "print(matriz[::2])"
      ],
      "metadata": {
        "colab": {
          "base_uri": "https://localhost:8080/"
        },
        "id": "6KOKaBN-uKqt",
        "outputId": "de8cd3a3-682a-4ba6-bca0-53b2dee2b29e"
      },
      "execution_count": null,
      "outputs": [
        {
          "output_type": "stream",
          "name": "stdout",
          "text": [
            "Matriz Original:\n",
            "[[ 1  2  3  4  5]\n",
            " [ 6  7  8  9 10]\n",
            " [11 12 13 14 15]\n",
            " [16 17 18 19 20]\n",
            " [21 22 23 24 25]]\n",
            "SubMatriz\n",
            "[[ 7  8  9]\n",
            " [12 13 14]\n",
            " [17 18 19]]\n",
            "SubMatriz alterada por slice\n",
            "[[0 0 0]\n",
            " [0 0 0]\n",
            " [0 0 0]]\n",
            "Matriz Original\n",
            "[[ 1  2  3  4  5]\n",
            " [ 6  0  0  0 10]\n",
            " [11  0  0  0 15]\n",
            " [16  0  0  0 20]\n",
            " [21 22 23 24 25]]\n",
            "Matriz Copia\n",
            "[[ 7  8  9]\n",
            " [12 13 14]\n",
            " [17 18 19]]\n",
            "Matriz Copia alteración 99\n",
            "[[99 99 99]\n",
            " [99 99 99]\n",
            " [99 99 99]]\n",
            "Matriz Original\n",
            "[[ 1  2  3  4  5]\n",
            " [ 6  0  0  0 10]\n",
            " [11  0  0  0 15]\n",
            " [16  0  0  0 20]\n",
            " [21 22 23 24 25]]\n",
            "Extrair la ultima columna de la matriz original\n",
            "[[ 5]\n",
            " [10]\n",
            " [15]\n",
            " [20]\n",
            " [25]]\n",
            "Extrair las columnas pares de la matriz original\n",
            "[[ 1  2  3  4  5]\n",
            " [11  0  0  0 15]\n",
            " [21 22 23 24 25]]\n"
          ]
        }
      ]
    },
    {
      "cell_type": "markdown",
      "source": [
        "Ejercicio 3: Concatenación, división y reshape de arrays\n",
        "Este ejercicio se centra en las operaciones de unión, división y cambio de forma de arrays NumPy.\n",
        "\n",
        "import numpy as np\n",
        "\n",
        "# **3.1 Crea dos arrays:**\n",
        "# **- Un array 'a' de forma (3,2) con valores del 1 al 6**\n",
        "# **- Un array 'b' de forma (3,2) con valores del 7 al 12**\n",
        "### array_a = np.arange(1,7).reshape(3,2)\n",
        "###print(array_a)\n",
        "###array_b = np.arange(7,13).reshape(2,3)\n",
        "###print(array_b)\n",
        "\n",
        "# **3.2 Concatena los arrays 'a' y 'b' horizontalmente (a lo largo del eje 1)**\n",
        "### array_b_reshape = array_b.reshape(3,2)\n",
        "###array_c = np.concatenate([array_a,array_b_reshape],axis=1)\n",
        "###print(array_c)\n",
        "\n",
        "# **3.3 Concatena los arrays 'a' y 'b' verticalmente (a lo largo del eje 0)**\n",
        "### array_d = np.concatenate([array_a,array_b_reshape],axis=0)\n",
        "###print(array_d)\n",
        "\n",
        "# **3.4 Crea un array unidimensional 'c' con valores del 1 al 12**\n",
        "###c = np.arange(1,13)\n",
        "###print(c)\n",
        "\n",
        "# **3.5 Utiliza reshape para convertir 'c' en un array de forma (4,3)**\n",
        "###c_reshape = c.reshape(4,3)\n",
        "\n",
        "# **3.6 Divide el array del paso anterior en 2 arrays de forma (2,3) usando np.split**\n",
        "###c_parte_1, c_parte_2 = np.array_split(c_reshape,2)\n",
        "###print(c_parte_1)\n",
        "###print(c_parte_2)\n",
        "\n",
        "# **3.7 Crea un array unidimensional 'd' con valores del 1 al 3 y conviértelo en:**\n",
        "###d = np.arange(1,4)\n",
        "# **- Un vector fila (forma 1x3) usando np.newaxis**\n",
        "###print(d[np.newaxis,:])\n",
        "# **- Un vector columna (forma 3x1) usando np.newaxis**\n",
        "###print(d[:,np.newaxis])\n",
        "\n",
        "# **3.8 Crea una matriz 4x4 con valores del 1 al 16 y divídela en 4 submatrices de 2x2 usando vsplit y hsplit**\n",
        "# Tu código aquí"
      ],
      "metadata": {
        "id": "_vOdpEezuucf"
      }
    },
    {
      "cell_type": "code",
      "source": [
        "array_a = np.arange(1,7).reshape(3,2)\n",
        "print(array_a)\n",
        "array_b = np.arange(7,13).reshape(2,3)\n",
        "print(array_b)\n",
        "#Concatena los arrays 'a' y 'b' horizontalmente (a lo largo del eje 1)\n",
        "array_b_reshape = array_b.reshape(3,2)\n",
        "array_c = np.concatenate([array_a,array_b_reshape],axis=1)\n",
        "print(array_c)\n",
        "array_d = np.concatenate([array_a,array_b_reshape],axis=0)\n",
        "print(array_d)\n",
        "#Crea un array unidimensional 'c' con valores del 1 al 12\n",
        "c = np.arange(1,13)\n",
        "print(c)\n",
        "c_reshape = c.reshape(4,3)\n",
        "print(c_reshape)\n",
        "#3.6 Divide el array del paso anterior en 2 arrays de forma (2,3) usando np.split\n",
        "c_parte_1, c_parte_2 = np.array_split(c_reshape,2)\n",
        "print(c_parte_1)\n",
        "print(c_parte_2)\n",
        "#Crea un array unidimensional 'd' con valores del 1 al 3 y conviértelo en:\n",
        "d = np.arange(1,4)\n",
        "print(d)\n",
        "#- Un vector fila (forma 1x3) usando np.newaxis\n",
        "print(d[np.newaxis,:])\n",
        "#- Un vector columna (forma 3x1) usando np.newaxis\n",
        "print(d[:,np.newaxis])\n",
        "#Crea una matriz 4x4 con valores del 1 al 16 y divídela en 4 submatrices de 2x2\n",
        "matriz_4x4 = np.arange(1,17).reshape(4,4)\n",
        "print(\"matriz 4x4\")\n",
        "print(matriz_4x4)\n",
        "#dividir matriz original en 2 partes\n",
        "matriz_partes = np.hsplit(matriz_4x4,2)\n",
        "print(matriz_partes)\n",
        "#Dividir las partes de la matriz_partes para obtener matrizes 2x2\n",
        "matriz_2x2_1, matriz_2x2_2 =np.vsplit(matriz_partes[0],2)\n",
        "matriz_2x2_3, matriz_2x2_4 = np.vsplit(matriz_partes[1],2)\n",
        "print(\"matriz 2x2 1 \")\n",
        "print(matriz_2x2_1)\n",
        "print(\"matriz 2x2 2\")\n",
        "print(matriz_2x2_2)\n",
        "print(\"matriz 2x2 3\")\n",
        "print(matriz_2x2_3)\n",
        "print(\"matriz 2x2 4\")\n",
        "print(matriz_2x2_4)\n"
      ],
      "metadata": {
        "colab": {
          "base_uri": "https://localhost:8080/"
        },
        "id": "P9YnJNyFGG-T",
        "outputId": "061b0001-9696-4a1f-f4b2-72a8d2f4fdb1"
      },
      "execution_count": null,
      "outputs": [
        {
          "output_type": "stream",
          "name": "stdout",
          "text": [
            "[[1 2]\n",
            " [3 4]\n",
            " [5 6]]\n",
            "[[ 7  8  9]\n",
            " [10 11 12]]\n",
            "[[ 1  2  7  8]\n",
            " [ 3  4  9 10]\n",
            " [ 5  6 11 12]]\n",
            "[[ 1  2]\n",
            " [ 3  4]\n",
            " [ 5  6]\n",
            " [ 7  8]\n",
            " [ 9 10]\n",
            " [11 12]]\n",
            "[ 1  2  3  4  5  6  7  8  9 10 11 12]\n",
            "[[ 1  2  3]\n",
            " [ 4  5  6]\n",
            " [ 7  8  9]\n",
            " [10 11 12]]\n",
            "[[1 2 3]\n",
            " [4 5 6]]\n",
            "[[ 7  8  9]\n",
            " [10 11 12]]\n",
            "[1 2 3]\n",
            "[[1 2 3]]\n",
            "[[1]\n",
            " [2]\n",
            " [3]]\n",
            "matriz 4x4\n",
            "[[ 1  2  3  4]\n",
            " [ 5  6  7  8]\n",
            " [ 9 10 11 12]\n",
            " [13 14 15 16]]\n",
            "[array([[ 1,  2],\n",
            "       [ 5,  6],\n",
            "       [ 9, 10],\n",
            "       [13, 14]]), array([[ 3,  4],\n",
            "       [ 7,  8],\n",
            "       [11, 12],\n",
            "       [15, 16]])]\n",
            "matriz 2x2 1 \n",
            "[[1 2]\n",
            " [5 6]]\n",
            "matriz 2x2 2\n",
            "[[ 9 10]\n",
            " [13 14]]\n",
            "matriz 2x2 3\n",
            "[[3 4]\n",
            " [7 8]]\n",
            "matriz 2x2 4\n",
            "[[11 12]\n",
            " [15 16]]\n"
          ]
        }
      ]
    },
    {
      "cell_type": "markdown",
      "source": [
        "# Ejercicios de Repaso: Funciones Universales en NumPy"
      ],
      "metadata": {
        "id": "bkFDzf-qzMkN"
      }
    },
    {
      "cell_type": "code",
      "source": [
        "# Ejercicios de Repaso: Funciones Universales en NumPy\n",
        "\n",
        "## Ejercicio 1: Operaciones Aritméticas con ufuncs\n",
        "\n",
        "#En este ejercicio practicarás el uso de operaciones aritméticas con ufuncs de NumPy.\n",
        "\n",
        "#python\n",
        "import numpy as np\n",
        "\n",
        "# 1.1 Crea un array unidimensional x con valores del 0 al 9\n",
        "x = np.arange(1,10)\n",
        "print(x)\n",
        "# 1.2 Aplica las siguientes operaciones aritméticas a x y muestra el resultado:\n",
        "# - Suma 5 a todos los elementos\n",
        "# - Resta 2 a todos los elementos\n",
        "# - Multiplica todos los elementos por 3\n",
        "# - Divide todos los elementos por 2\n",
        "# - Calcula el resto de la división por 2 (módulo 2)\n",
        "print(np.add(x,5))\n",
        "print(np.subtract(x,2))\n",
        "print(np.multiply(x,3))\n",
        "print(np.divide(x,2))\n",
        "print(np.mod(x,2))\n",
        "# 1.3 Crea un array y con valores del 10 al 19 y suma los arrays x e y\n",
        "y = np.arange(10,19)\n",
        "\n",
        "print(y)\n",
        "print(np.add(x,y))\n",
        "# 1.4 Calcula el valor negativo de x\n",
        "print(f\"Negativo: {-x}\")\n",
        "\n",
        "# 1.5 Eleva los elementos de x al cuadrado utilizando el operador ** y luego utilizando la función np.power\n",
        "print(x**2)\n",
        "print(np.power(x,2))\n",
        "\n",
        "# 1.6 Crea una expresión que combine varias operaciones: (x * 2) + 10 - (x ** 2)\n",
        "expresion = (np.multiply(x,2)) + 10 - (np.power(x,2))\n",
        "print(f'Expresion: {expresion}')\n",
        "\n",
        "\n"
      ],
      "metadata": {
        "colab": {
          "base_uri": "https://localhost:8080/"
        },
        "id": "dm6x8XI3h08O",
        "outputId": "71ba515c-ef13-4018-bdef-22e1dd125a01"
      },
      "execution_count": null,
      "outputs": [
        {
          "output_type": "stream",
          "name": "stdout",
          "text": [
            "[1 2 3 4 5 6 7 8 9]\n",
            "[ 6  7  8  9 10 11 12 13 14]\n",
            "[-1  0  1  2  3  4  5  6  7]\n",
            "[ 3  6  9 12 15 18 21 24 27]\n",
            "[0.5 1.  1.5 2.  2.5 3.  3.5 4.  4.5]\n",
            "[1 0 1 0 1 0 1 0 1]\n",
            "[10 11 12 13 14 15 16 17 18]\n",
            "[11 13 15 17 19 21 23 25 27]\n",
            "Negativo: [-1 -2 -3 -4 -5 -6 -7 -8 -9]\n",
            "[ 1  4  9 16 25 36 49 64 81]\n",
            "[ 1  4  9 16 25 36 49 64 81]\n",
            "Expresion: [ 11  10   7   2  -5 -14 -25 -38 -53]\n"
          ]
        }
      ]
    },
    {
      "cell_type": "code",
      "source": [
        "## Ejercicio 2: Funciones Matemáticas con ufuncs\n",
        "\n",
        "#En este ejercicio practicarás el uso de funciones matemáticas de NumPy.\n",
        "\n",
        "#python\n",
        "import numpy as np\n",
        "\n",
        "# 2.1 Crea un array x con valores negativos y positivos: [-3, -2, -1, 0, 1, 2, 3]\n",
        "x = np.array([-3, -2, -1, 0, 1, 2, 3])\n",
        "\n",
        "print(x)\n",
        "\n",
        "# 2.2 Calcula el valor absoluto de x usando la función abs() y también np.absolute()\n",
        "print(np.abs(x))\n",
        "\n",
        "# 2.3 Crea un array de ángulos con valores [0, π/4, π/2, π] y calcula:\n",
        "\n",
        "# - El seno de cada ángulo\n",
        "# - El coseno de cada ángulo\n",
        "# - La tangente de cada ángulo\n",
        "angulos = np.array([0, np.pi/4, np.pi/2, np.pi])\n",
        "print(angulos)\n",
        "print(np.sin(angulos))\n",
        "print(np.cos(angulos))\n",
        "print(np.tan(angulos))\n",
        "\n",
        "# 2.4 Usando el array x = [0, 0.5, 1], calcula:\n",
        "# - El arcoseno de x\n",
        "# - El arcocoseno de x\n",
        "# - El arcotangente de x\n",
        "x = np.array([0, 0.5, 1])\n",
        "print(x)\n",
        "print(np.arcsin(x))\n",
        "print(np.arccos(x))\n",
        "print(np.arctan(x))\n",
        "\n",
        "# 2.5 Crea un array x con valores [1, 2, 3] y calcula:\n",
        "# - e^x (exponencial)\n",
        "# - 2^x\n",
        "# - log(x) (logaritmo natural)\n",
        "# - log2(x) (logaritmo base 2)\n",
        "# - log10(x) (logaritmo base 10)\n",
        "x = np.array([1,2,3])\n",
        "print(x)\n",
        "print(np.exp(x))\n",
        "print(np.exp2(x))\n",
        "print(np.log(x))\n",
        "print(np.log2(x))\n",
        "print(np.log10(x))"
      ],
      "metadata": {
        "colab": {
          "base_uri": "https://localhost:8080/"
        },
        "id": "OohdLpuDiKc1",
        "outputId": "77984050-66ac-4681-88ea-3b7c1c10fc76"
      },
      "execution_count": null,
      "outputs": [
        {
          "output_type": "stream",
          "name": "stdout",
          "text": [
            "[-3 -2 -1  0  1  2  3]\n",
            "[3 2 1 0 1 2 3]\n",
            "[0.         0.78539816 1.57079633 3.14159265]\n",
            "[0.00000000e+00 7.07106781e-01 1.00000000e+00 1.22464680e-16]\n",
            "[ 1.00000000e+00  7.07106781e-01  6.12323400e-17 -1.00000000e+00]\n",
            "[ 0.00000000e+00  1.00000000e+00  1.63312394e+16 -1.22464680e-16]\n",
            "[0.  0.5 1. ]\n",
            "[0.         0.52359878 1.57079633]\n",
            "[1.57079633 1.04719755 0.        ]\n",
            "[0.         0.46364761 0.78539816]\n",
            "[1 2 3]\n",
            "[ 2.71828183  7.3890561  20.08553692]\n",
            "[2. 4. 8.]\n",
            "[0.         0.69314718 1.09861229]\n",
            "[0.        1.        1.5849625]\n",
            "[0.         0.30103    0.47712125]\n"
          ]
        }
      ]
    },
    {
      "cell_type": "code",
      "source": [
        "\n",
        "## Ejercicio 3: Características Avanzadas de ufuncs\n",
        "\n",
        "#En este ejercicio explorarás características más avanzadas de las ufuncs de NumPy.\n",
        "\n",
        "#```python\n",
        "import numpy as np\n",
        "\n",
        "# 3.1 Crea un array x con valores del 1 al 5\n",
        "x = np.arange(1,6)\n",
        "print(x)\n",
        "# 3.2 Crea un array y vacío de la misma longitud que x y utiliza el parámetro out para\n",
        "# almacenar directamente el resultado de multiplicar x por 10 en y\n",
        "y = np.empty(5)\n",
        "print(y)\n",
        "print(np.multiply(x,10, out=y))\n",
        "\n",
        "\n",
        "# 3.3 Utiliza el método reduce con la función add para calcular la suma de todos los elementos de x\n",
        "# Compara el resultado con np.sum(x)\n",
        "print(np.add.reduce(x,0))\n",
        "print(np.sum(x))\n",
        "\n",
        "# 3.4 Utiliza el método accumulate con la función add para calcular la suma acumulativa de x\n",
        "# Compara el resultado con np.cumsum(x)\n",
        "print(np.add.accumulate(x))\n",
        "print(np.cumsum(x))\n",
        "\n",
        "# 3.5 Utiliza el método outer con la función multiply para crear una tabla de multiplicar\n",
        "# con los valores de x\n",
        "print(np.multiply.outer(x,x))"
      ],
      "metadata": {
        "colab": {
          "base_uri": "https://localhost:8080/"
        },
        "id": "JQl7kA1xiO0M",
        "outputId": "ed6b1467-fe06-473b-e1fb-5513fb33744e"
      },
      "execution_count": null,
      "outputs": [
        {
          "output_type": "stream",
          "name": "stdout",
          "text": [
            "[1 2 3 4 5]\n",
            "[4.9e-324 9.9e-324 1.5e-323 2.0e-323 2.5e-323]\n",
            "[10. 20. 30. 40. 50.]\n",
            "15\n",
            "15\n",
            "[ 1  3  6 10 15]\n",
            "[ 1  3  6 10 15]\n",
            "[[ 1  2  3  4  5]\n",
            " [ 2  4  6  8 10]\n",
            " [ 3  6  9 12 15]\n",
            " [ 4  8 12 16 20]\n",
            " [ 5 10 15 20 25]]\n"
          ]
        }
      ]
    },
    {
      "cell_type": "code",
      "source": [
        "import pandas as pd\n",
        "data = pd.read_csv(\"president_heights.csv\", sep=\",\")\n",
        "heights = np.array(data[\"height(cm)\"])\n",
        "print(heights)"
      ],
      "metadata": {
        "colab": {
          "base_uri": "https://localhost:8080/"
        },
        "id": "YhkvevxhyGAm",
        "outputId": "bbc863a5-bfd5-4da7-9e14-401b221b3571"
      },
      "execution_count": null,
      "outputs": [
        {
          "output_type": "stream",
          "name": "stdout",
          "text": [
            "[189 170 189 163 183 171 185 168 173 183 173 173 175 178 183 193 178 173\n",
            " 174 183 183 168 170 178 182 180 183 178 182 188 175 179 183 193 182 183\n",
            " 177 185 188 188 182 185 191 182]\n"
          ]
        }
      ]
    },
    {
      "cell_type": "markdown",
      "source": [
        "#Ejercicios de Repaso: Agregaciones en NumPy"
      ],
      "metadata": {
        "id": "TSZ_iygVzHM4"
      }
    },
    {
      "cell_type": "code",
      "source": [
        "\n",
        "#Ejercicio 1: Agregaciones Básicas\n",
        "#En este ejercicio, practicarás el uso de funciones de agregación básicas de NumPy con arrays unidimensionales y multidimensionales.\n",
        "\n",
        "import numpy as np\n",
        "rng = np.random.default_rng(seed=42)\n",
        "\n",
        "# 1.1 Crea un array unidimensional con 10 números aleatorios entre 0 y 100\n",
        "array = rng.integers(0,101,10)\n",
        "print(array)\n",
        "\n",
        "# 1.2 Calcula la suma, el valor mínimo, el valor máximo, la media y la desviación estándar del array\n",
        "print(array.sum())\n",
        "print(array.min())\n",
        "print(array.max())\n",
        "print(array.mean())\n",
        "print(array.std())\n",
        "\n",
        "# 1.3 Crea una matriz (array bidimensional) de tamaño 4x5 con números aleatorios enteros entre 1 y 50\n",
        "array_b = rng.integers(1,51,(4,5))\n",
        "print(array_b)\n",
        "\n",
        "# 1.4 Calcula la suma de todos los elementos de la matriz\n",
        "print(np.sum(array_b))\n",
        "\n",
        "# 1.5 Calcula la suma de cada fila de la matriz (a lo largo del eje 1)\n",
        "print(array_b.sum(axis=1))\n",
        "\n",
        "# 1.6 Calcula la suma de cada columna de la matriz (a lo largo del eje 0)\n",
        "print(array_b.sum(axis=0))\n",
        "\n",
        "# 1.7 Encuentra el valor máximo de cada fila y el valor mínimo de cada columna\n",
        "print(array_b.max(axis=1))\n",
        "print(array_b.min(axis=0))"
      ],
      "metadata": {
        "colab": {
          "base_uri": "https://localhost:8080/"
        },
        "id": "JbsInnBtzDvm",
        "outputId": "281c1646-e931-41a0-c80d-a6bbb23b9826"
      },
      "execution_count": null,
      "outputs": [
        {
          "output_type": "stream",
          "name": "stdout",
          "text": [
            "[ 9 78 66 44 43 86  8 70 20  9]\n",
            "433\n",
            "8\n",
            "86\n",
            "43.3\n",
            "28.979475495598603\n",
            "[[27 49 37 39 36]\n",
            " [40 26  7 42 23]\n",
            " [26 19 10 47 40]\n",
            " [33 21 42 28 23]]\n",
            "615\n",
            "[188 138 142 147]\n",
            "[126 115  96 156 122]\n",
            "[49 42 47 42]\n",
            "[26 19  7 28 23]\n"
          ]
        }
      ]
    },
    {
      "cell_type": "markdown",
      "source": [
        "#Ejercicio 2: Comparación de Métodos de Agregación"
      ],
      "metadata": {
        "id": "E2o5rU4tzaLC"
      }
    },
    {
      "cell_type": "code",
      "source": [
        "\n",
        "#En este ejercicio, compararás el rendimiento y uso de diferentes métodos de agregación, tanto los nativos de Python como los de NumPy.\n",
        "\n",
        "import numpy as np\n",
        "import time\n",
        "rng = np.random.default_rng(seed=42)\n",
        "\n",
        "# 2.1 Crea un array grande con un millón de números aleatorios entre 0 y 1\n",
        "big_array = rng.random(1_000_000)\n",
        "print(big_array)\n",
        "\n",
        "# 2.2 Mide el tiempo que tarda la función sum() de Python en calcular la suma\n",
        "\n",
        "start_python = time.time()\n",
        "%timeit sum(big_array)\n",
        "end_python = time.time() - start_python\n",
        "# 2.3 Mide el tiempo que tarda np.sum() en calcular la suma\n",
        "start_np_sum = time.time()\n",
        "%timeit np.sum(big_array)\n",
        "end_np_sum = time.time() - start_np_sum\n",
        "# 2.4 Mide el tiempo que tarda el método .sum() del array en calcular la suma\n",
        "start_sum = time.time()\n",
        "%timeit big_array.sum()\n",
        "end_sum = time.time() - start_sum\n",
        "# 2.5 Compara los resultados de tiempo y muestra cuál método es más rápido y por qué factor\n",
        "print(f'Camparacion de velocidad: ')\n",
        "print(f'Función sum() de Python: {end_python:.2f} segundos')\n",
        "print(f'Función np.sum() de Numpy: {end_np_sum:.2f} segundos')\n",
        "print(f'Función sum() de Python: {end_sum:.2f} segundos')\n",
        "\n",
        "# 2.6 Repite las mediciones para las funciones min/max y np.min/np.max y compara\n",
        "#MIN\n",
        "start_min = time.time()\n",
        "%timeit min(big_array)\n",
        "end_min = time.time() - start_min\n",
        "#MAX\n",
        "start_max = time.time()\n",
        "%timeit max(big_array)\n",
        "end_max = time.time() - start_max\n",
        "#NP.MIN\n",
        "start_npmin = time.time()\n",
        "%timeit np.min(big_array)\n",
        "end_npmin= time.time() - start_npmin\n",
        "#NPMAX\n",
        "start_npmax = time.time()\n",
        "%timeit np.max(big_array)\n",
        "end_npmax= time.time() - start_npmax\n",
        "\n",
        "print(f'Camparacion de velocidad: ')\n",
        "print(f'Función min() de Python: {end_min:.2f} segundos')\n",
        "print(f'Función max() de Numpy: {end_max:.2f} segundos')\n",
        "print(f'Función np.min() de Python: {end_npmin:.2f} segundos')\n",
        "print(f'Función np.max() de Python: {end_npmax:.2f} segundos')"
      ],
      "metadata": {
        "id": "P-pJPic-zXxa",
        "colab": {
          "base_uri": "https://localhost:8080/"
        },
        "outputId": "8159112b-cbf0-47a4-a7d2-1b5b8a17c75d"
      },
      "execution_count": null,
      "outputs": [
        {
          "output_type": "stream",
          "name": "stdout",
          "text": [
            "[0.77395605 0.43887844 0.85859792 ... 0.55082789 0.98694171 0.66717687]\n",
            "114 ms ± 37.5 ms per loop (mean ± std. dev. of 7 runs, 10 loops each)\n",
            "356 µs ± 11.9 µs per loop (mean ± std. dev. of 7 runs, 1000 loops each)\n",
            "382 µs ± 61.6 µs per loop (mean ± std. dev. of 7 runs, 1000 loops each)\n",
            "Camparacion de velocidad: \n",
            "Función sum() de Python: 9.08 segundos\n",
            "Función np.sum() de Numpy: 2.92 segundos\n",
            "Función sum() de Python: 3.29 segundos\n",
            "83.2 ms ± 26.7 ms per loop (mean ± std. dev. of 7 runs, 10 loops each)\n",
            "63.3 ms ± 671 µs per loop (mean ± std. dev. of 7 runs, 10 loops each)\n",
            "400 µs ± 13 µs per loop (mean ± std. dev. of 7 runs, 1000 loops each)\n",
            "510 µs ± 47.4 µs per loop (mean ± std. dev. of 7 runs, 1000 loops each)\n",
            "Camparacion de velocidad: \n",
            "Función min() de Python: 6.54 segundos\n",
            "Función max() de Numpy: 5.14 segundos\n",
            "Función np.min() de Python: 3.25 segundos\n",
            "Función np.max() de Python: 4.03 segundos\n"
          ]
        }
      ]
    },
    {
      "cell_type": "markdown",
      "source": [
        "#Ejercicio 3: Análisis de Datos con Agregaciones"
      ],
      "metadata": {
        "id": "RBxnYhBvzgps"
      }
    },
    {
      "cell_type": "code",
      "source": [
        "\n",
        "#En este ejercicio, trabajarás con un conjunto de datos simulado de temperaturas mensuales y utilizarás agregaciones para analizarlo.\n",
        "\n",
        "import numpy as np\n",
        "import matplotlib.pyplot as plt\n",
        "rng = np.random.default_rng(seed=42)\n",
        "\n",
        "# 3.1 Crea un array que represente las temperaturas diarias (en °C) durante un año (365 días)\n",
        "# con valores aleatorios que oscilen entre -10°C y 35°C\n",
        "temperaturas = rng.integers(-10,36,365)\n",
        "print(temperaturas)\n",
        "\n",
        "# 3.2 Calcula la temperatura media, mínima y máxima para todo el año\n",
        "temp_media = np.mean(temperaturas)\n",
        "print(f'{temp_media:.2f}')\n",
        "temp_min = np.min(temperaturas)\n",
        "print(temp_min)\n",
        "temp_max = np.max(temperaturas)\n",
        "print(temp_max)\n",
        "\n",
        "\n",
        "# 3.3 Convierte los datos diarios en datos mensuales calculando la temperatura media de cada mes\n",
        "# Sugerencia: puedes agrupar los datos en 12 grupos (simplificando a 30 días por mes)\n",
        "meses = np.array_split(temperaturas,12)\n",
        "print(meses)\n",
        "\n",
        "# 3.4 Identifica el mes más caluroso y el mes más frío basándote en las temperaturas medias\n",
        "temperatura_media = [round(np.mean(x),2) for x in meses]\n",
        "print(temperatura_media)\n",
        "mes_mas_caluroso = np.argmax(temperatura_media) + 1\n",
        "print(mes_mas_caluroso)\n",
        "mes_mas_frio = np.argmin(temperatura_media)+1\n",
        "print(mes_mas_frio)\n",
        "print(f\"El mes mas caluroso fue: mes '{mes_mas_caluroso}', com {np.max(temperatura_media)} ºC\")\n",
        "print(f\"El mes mas frio fue: mes '{mes_mas_frio}', com {np.min(temperatura_media)} ºC\")\n",
        "\n",
        "# 3.5 Calcula la desviación estándar de las temperaturas para cada mes para medir la variabilidad\n",
        "desviacion = [round(np.std(x),2) for x  in meses]\n",
        "print(\"Desviacion estandar\")\n",
        "print(desviacion)\n",
        "\n",
        "# 3.6 Crea un gráfico que muestre las temperaturas medias, mínimas y máximas para cada mes\n",
        "meses_name = [\"Ene\",\"Feb\",\"Mar\",\"Abr\",\"May\",\"Jun\",\"Jul\",\"Ago\",\"Sep\",\"Oct\",\"Nov\",\"Dic\"]\n",
        "\n",
        "min_temp = [np.min(valor) for valor in meses]\n",
        "max_temp = [np.max(valor) for valor in meses]\n",
        "print(min_temp)\n",
        "print(max_temp)\n",
        "# sitio de las barras\n",
        "x = np.arange(len(meses))\n",
        "\n",
        "# Ancho de las barras\n",
        "largura = 0.25\n",
        "\n",
        "# Criar gráfico de barras\n",
        "plt.figure(figsize=(12, 8))\n",
        "plt.bar(x - largura, min_temp, width=largura, label='Temp. Mínima', color='blue')\n",
        "plt.bar(x, temperatura_media, width=largura, label='Temp. Média', color='green')\n",
        "plt.bar(x + largura, max_temp, width=largura, label='Temp. Máxima', color='red')\n",
        "\n",
        "# Adicionando rótulos e legenda\n",
        "plt.xticks(x, meses_name)\n",
        "plt.xlabel('Meses')\n",
        "plt.ylabel('Temperatura (°C)')\n",
        "plt.title('Temperaturas Mensais')\n",
        "plt.legend()\n",
        "plt.grid(axis='y', linestyle='-')\n",
        "plt.show()\n",
        "\n",
        "\n",
        "# 3.7 Calcula el percentil 75 y 25 de las temperaturas para todo el año\n",
        "percentil_25 = np.percentile(temperaturas,25)\n",
        "print(\"Percentil 25\")\n",
        "print(percentil_25)\n",
        "percentil_75 = np.percentile(temperaturas,75)\n",
        "print(\"Percentil 75\")\n",
        "print(percentil_75)\n",
        "plt.boxplot(meses)\n",
        "plt.title('Temperaturas')\n",
        "plt.ylabel('ºC')\n",
        "plt.xlabel('Meses')\n",
        "plt.grid(axis='y', linestyle='-')\n",
        "plt.show()\n",
        "# 3.8 Calcula cuántos días del año tuvieron temperaturas superiores a 30°C e inferiores a 0°C\n",
        "temperaturas_superiores_30 = [x for x in temperaturas if x > 30]\n",
        "print(f'Días con temperaturas superiores a 30ºC : {len(temperaturas_superiores_30)}')\n",
        "temperaturas_inferiores_0 = [x for x in temperaturas if x < 0]\n",
        "print(f'Días con temperaturas inferiores a 0ºC : {len(temperaturas_inferiores_0)}')\n",
        "print(np.sum(temperaturas > 30))\n",
        "print(np.sum(temperaturas < 0))\n"
      ],
      "metadata": {
        "id": "q5sIH0Pwzg_V",
        "colab": {
          "base_uri": "https://localhost:8080/",
          "height": 1000
        },
        "outputId": "f6ee0b10-93dd-4a1f-9179-403be2bf0bd1"
      },
      "execution_count": null,
      "outputs": [
        {
          "output_type": "stream",
          "name": "stdout",
          "text": [
            "[ -6  25  20  10   9  29  -7  22  -1  -6  14  34  23  25  23  26  13  -5\n",
            "  28  10  13   7  -2  32  25  19   8  27  15  10  10   0  -6  15  30  -8\n",
            "  29  28   2  19  -3  24  22   6  -7  34  10  31  21  25  24  -2   6  11\n",
            "  12  -8  15  -3  24  21  32  24   6  34   8   4  31   7  -7  11  26  -2\n",
            "  11  -5  21  11   5   0  15  20  33  10  -3  28  18  22  -6   4  25  28\n",
            "  10  27  28   7  31   3   1  21  19  -4  28  -1  27 -10  26  26  25  20\n",
            "  11  22   2  25  15  11  13  16  -9  -4   1  -5  10  20  20  11  29  16\n",
            "  -7  25  16  19  16  15  -6  15  26   3  17  -9   5  10  35  -1   2   8\n",
            "  35  29  -9   0  27  -8  29   2  32   3   9  20  -5  15  13  26  35  20\n",
            "   8   8   9  27   4  -3   5  -9  -6  -6  25  23  22  11  22  -3  31  13\n",
            "  33  -3  12  22  12  10  -3   7   0   3  21  18  17   6  34  -6   5  -5\n",
            "   5  34   6  31  12  22  11   2  25  34   2  25   2  22  26  10  23   2\n",
            "  -7  -6  10  31  -5  10  22  -1  23   4  27  16  15  -2  11  29 -10  24\n",
            "  12  23  20   9   4  18  -4  16  -6  19  18  -7  24   9  26  -9  -2  12\n",
            "  -2   5  20  -4  21  -6  -2  17  26  -3   3  32  35  16  10   5  18  17\n",
            "   3  -9  -4  34   9  12  11  26  -8  -7   2  12  20  12  10  33  -3  16\n",
            "  14  11  27   2  33   5  15  13  29  10   3 -10   6  28 -10  31  14  -4\n",
            "   3  15   4  -6  20  20  -5   2   1  20  23  23  33  25   4  -6  18  32\n",
            "  34   0   0  -9  -4  15  15   7   4  28  11  27  34   4  -1  33  19   3\n",
            "  18  13  31   1  35  33  -2  -3  14  -8   3  10  34  35  -4  31  -6  24\n",
            "  28  30   0  31  -5]\n",
            "12.59\n",
            "-10\n",
            "35\n",
            "[array([-6, 25, 20, 10,  9, 29, -7, 22, -1, -6, 14, 34, 23, 25, 23, 26, 13,\n",
            "       -5, 28, 10, 13,  7, -2, 32, 25, 19,  8, 27, 15, 10, 10]), array([ 0, -6, 15, 30, -8, 29, 28,  2, 19, -3, 24, 22,  6, -7, 34, 10, 31,\n",
            "       21, 25, 24, -2,  6, 11, 12, -8, 15, -3, 24, 21, 32, 24]), array([ 6, 34,  8,  4, 31,  7, -7, 11, 26, -2, 11, -5, 21, 11,  5,  0, 15,\n",
            "       20, 33, 10, -3, 28, 18, 22, -6,  4, 25, 28, 10, 27, 28]), array([  7,  31,   3,   1,  21,  19,  -4,  28,  -1,  27, -10,  26,  26,\n",
            "        25,  20,  11,  22,   2,  25,  15,  11,  13,  16,  -9,  -4,   1,\n",
            "        -5,  10,  20,  20,  11]), array([29, 16, -7, 25, 16, 19, 16, 15, -6, 15, 26,  3, 17, -9,  5, 10, 35,\n",
            "       -1,  2,  8, 35, 29, -9,  0, 27, -8, 29,  2, 32,  3,  9]), array([20, -5, 15, 13, 26, 35, 20,  8,  8,  9, 27,  4, -3,  5, -9, -6, -6,\n",
            "       25, 23, 22, 11, 22, -3, 31, 13, 33, -3, 12, 22, 12]), array([10, -3,  7,  0,  3, 21, 18, 17,  6, 34, -6,  5, -5,  5, 34,  6, 31,\n",
            "       12, 22, 11,  2, 25, 34,  2, 25,  2, 22, 26, 10, 23]), array([  2,  -7,  -6,  10,  31,  -5,  10,  22,  -1,  23,   4,  27,  16,\n",
            "        15,  -2,  11,  29, -10,  24,  12,  23,  20,   9,   4,  18,  -4,\n",
            "        16,  -6,  19,  18]), array([-7, 24,  9, 26, -9, -2, 12, -2,  5, 20, -4, 21, -6, -2, 17, 26, -3,\n",
            "        3, 32, 35, 16, 10,  5, 18, 17,  3, -9, -4, 34,  9]), array([ 12,  11,  26,  -8,  -7,   2,  12,  20,  12,  10,  33,  -3,  16,\n",
            "        14,  11,  27,   2,  33,   5,  15,  13,  29,  10,   3, -10,   6,\n",
            "        28, -10,  31,  14]), array([-4,  3, 15,  4, -6, 20, 20, -5,  2,  1, 20, 23, 23, 33, 25,  4, -6,\n",
            "       18, 32, 34,  0,  0, -9, -4, 15, 15,  7,  4, 28, 11]), array([27, 34,  4, -1, 33, 19,  3, 18, 13, 31,  1, 35, 33, -2, -3, 14, -8,\n",
            "        3, 10, 34, 35, -4, 31, -6, 24, 28, 30,  0, 31, -5])]\n",
            "[14.52, 13.81, 13.55, 12.19, 12.35, 12.7, 13.3, 10.73, 9.8, 11.9, 10.77, 15.4]\n",
            "12\n",
            "9\n",
            "El mes mas caluroso fue: mes '12', com 15.4 ºC\n",
            "El mes mas frio fue: mes '9', com 9.8 ºC\n",
            "Desviacion estandar\n",
            "[11.86, 13.37, 12.27, 11.87, 13.64, 12.48, 12.01, 11.82, 13.2, 12.43, 12.78, 15.32]\n",
            "[-7, -8, -7, -10, -9, -9, -6, -10, -9, -10, -9, -8]\n",
            "[34, 34, 34, 31, 35, 35, 34, 31, 35, 33, 34, 35]\n"
          ]
        },
        {
          "output_type": "display_data",
          "data": {
            "text/plain": [
              "<Figure size 1200x800 with 1 Axes>"
            ],
            "image/png": "[encoded data removed]"
          },
          "metadata": {}
        },
        {
          "output_type": "stream",
          "name": "stdout",
          "text": [
            "Percentil 25\n",
            "2.0\n",
            "Percentil 75\n",
            "24.0\n"
          ]
        },
        {
          "output_type": "display_data",
          "data": {
            "text/plain": [
              "<Figure size 640x480 with 1 Axes>"
            ],
            "image/png": "[encoded data removed]"
          },
          "metadata": {}
        },
        {
          "output_type": "stream",
          "name": "stdout",
          "text": [
            "Días con temperaturas superiores a 30ºC : 38\n",
            "Días con temperaturas inferiores a 0ºC : 76\n",
            "38\n",
            "76\n"
          ]
        }
      ]
    },
    {
      "cell_type": "markdown",
      "source": [
        "#Ejercicios de Broadcasting en NumPy\n",
        "#Ejercicio 1: Operaciones básicas con Broadcasting"
      ],
      "metadata": {
        "id": "TUm11FHtDLIr"
      }
    },
    {
      "cell_type": "code",
      "source": [
        "import numpy as np\n",
        "\n",
        "# 1.1 Crea un array unidimensional x con valores del 0 al 9\n",
        "x = np.arange(10)\n",
        "print(x)\n",
        "\n",
        "# 1.2 Crea un array columna y con valores del 10 al 19 (usa reshape o np.newaxis)\n",
        "y = np.arange(10,20)[:,np.newaxis]\n",
        "print(y)\n",
        "\n",
        "# 1.3 Suma los arrays x e y usando broadcasting y muestra el resultado\n",
        "# ¿Qué forma tiene el resultado? Resp.: una matriz 10x10\n",
        "suma_x_y = x + y\n",
        "print(suma_x_y, suma_x_y.shape)\n",
        "\n",
        "# 1.4 Crea una matriz 3x3 de unos\n",
        "matriz_uno = np.ones((3,3))\n",
        "print(matriz_uno)\n",
        "\n",
        "# 1.5 Multiplica la matriz de unos por el array x\n",
        "# ¿Qué ocurre con cada fila de la matriz?\n",
        "\n",
        "print(matriz_uno * x[:3]) #slice para no dar error\n",
        "\n",
        "# 1.6 Resta el array columna y a la matriz de unos\n",
        "# ¿Qué ocurre con cada columna de la matriz?\n",
        "resta = matriz_uno - y[:3]\n",
        "print(y[:3])\n",
        "print(resta)"
      ],
      "metadata": {
        "colab": {
          "base_uri": "https://localhost:8080/"
        },
        "id": "kLraeQjPDNeE",
        "outputId": "067838d7-48f1-43ba-d252-7e41bf7e24b9"
      },
      "execution_count": null,
      "outputs": [
        {
          "output_type": "stream",
          "name": "stdout",
          "text": [
            "[0 1 2 3 4 5 6 7 8 9]\n",
            "[[10]\n",
            " [11]\n",
            " [12]\n",
            " [13]\n",
            " [14]\n",
            " [15]\n",
            " [16]\n",
            " [17]\n",
            " [18]\n",
            " [19]]\n",
            "[[10 11 12 13 14 15 16 17 18 19]\n",
            " [11 12 13 14 15 16 17 18 19 20]\n",
            " [12 13 14 15 16 17 18 19 20 21]\n",
            " [13 14 15 16 17 18 19 20 21 22]\n",
            " [14 15 16 17 18 19 20 21 22 23]\n",
            " [15 16 17 18 19 20 21 22 23 24]\n",
            " [16 17 18 19 20 21 22 23 24 25]\n",
            " [17 18 19 20 21 22 23 24 25 26]\n",
            " [18 19 20 21 22 23 24 25 26 27]\n",
            " [19 20 21 22 23 24 25 26 27 28]] (10, 10)\n",
            "[[1. 1. 1.]\n",
            " [1. 1. 1.]\n",
            " [1. 1. 1.]]\n",
            "[[0. 1. 2.]\n",
            " [0. 1. 2.]\n",
            " [0. 1. 2.]]\n",
            "[[10]\n",
            " [11]\n",
            " [12]]\n",
            "[[ -9.  -9.  -9.]\n",
            " [-10. -10. -10.]\n",
            " [-11. -11. -11.]]\n"
          ]
        }
      ]
    },
    {
      "cell_type": "markdown",
      "source": [
        "#Ejercicio 2: Broadcasting con matrices y vectores\n",
        "#En este ejercicio practicarás cómo usar broadcasting para realizar operaciones comunes en análisis de datos."
      ],
      "metadata": {
        "id": "OpTmstfcF_e2"
      }
    },
    {
      "cell_type": "code",
      "source": [
        "import numpy as np\n",
        "np.random.seed(42)\n",
        "# 2.1 Crea una matriz de datos X con forma (4, 3) con valores aleatorios entre 0 y 1\n",
        "X = np.random.random((4,3))\n",
        "print(X)\n",
        "\n",
        "# 2.2 Calcula la media de cada columna de X\n",
        "media = X.mean(0)\n",
        "print(media)\n",
        "\n",
        "# 2.3 Usa broadcasting para centrar los datos (restar a cada columna su media)\n",
        "datos_resta = X - media\n",
        "print(datos_resta)\n",
        "\n",
        "# 2.4 Crea un array de pesos w con forma (3,) con valores [0.1, 0.5, 0.9]\n",
        "pesos = np.array([0.1,0.5,0.9])\n",
        "print(pesos)\n",
        "\n",
        "# 2.5 Usa broadcasting para multiplicar cada columna de X por el peso correspondiente\n",
        "ponderada_x = X * pesos\n",
        "print(ponderada_x)\n",
        "\n",
        "\n",
        "# 2.6 Suma las filas de la matriz ponderada para obtener un vector de puntuaciones\n",
        "print(np.sum(ponderada_x,axis=1))"
      ],
      "metadata": {
        "colab": {
          "base_uri": "https://localhost:8080/"
        },
        "id": "V1LLlyNHGBm-",
        "outputId": "2545a407-7818-4bfc-f416-3c680cda7a63"
      },
      "execution_count": null,
      "outputs": [
        {
          "output_type": "stream",
          "name": "stdout",
          "text": [
            "[[0.37454012 0.95071431 0.73199394]\n",
            " [0.59865848 0.15601864 0.15599452]\n",
            " [0.05808361 0.86617615 0.60111501]\n",
            " [0.70807258 0.02058449 0.96990985]]\n",
            "[0.4348387  0.4983734  0.61475333]\n",
            "[[-0.06029858  0.45234091  0.11724061]\n",
            " [ 0.16381979 -0.34235476 -0.45875881]\n",
            " [-0.37675509  0.36780275 -0.01363832]\n",
            " [ 0.27323388 -0.4777889   0.35515652]]\n",
            "[0.1 0.5 0.9]\n",
            "[[0.03745401 0.47535715 0.65879455]\n",
            " [0.05986585 0.07800932 0.14039507]\n",
            " [0.00580836 0.43308807 0.54100351]\n",
            " [0.07080726 0.01029225 0.87291887]]\n",
            "[1.17160571 0.27827024 0.97989994 0.95401837]\n"
          ]
        }
      ]
    },
    {
      "cell_type": "markdown",
      "source": [
        "#Ejercicio 3: Visualización con Broadcasting\n",
        "#En este ejercicio usarás broadcasting para crear visualizaciones de funciones matemáticas."
      ],
      "metadata": {
        "id": "7b9QDA7SJp7L"
      }
    },
    {
      "cell_type": "code",
      "source": [
        "import numpy as np\n",
        "import matplotlib.pyplot as plt\n",
        "\n",
        "# 3.1 Crea un array x con 50 valores equidistantes entre -5 y 5\n",
        "x = np.linspace(-5,5,50)\n",
        "print(x)\n",
        "\n",
        "# 3.2 Crea un array y con 50 valores equidistantes entre -5 y 5\n",
        "# y conviértelo en un array columna\n",
        "y = np.linspace(-5,5,50)[:,np.newaxis]\n",
        "print(y)\n",
        "\n",
        "# 3.3 Usa broadcasting para calcular la distancia de cada punto (x,y) al origen\n",
        "# Fórmula: d = sqrt(x² + y²)\n",
        "print(\"-------d-------\")\n",
        "d = np.sqrt(x**2 + y**2)\n",
        "print(d,d.shape)\n",
        "\n",
        "# 3.4 Usa la distancia para calcular z = sin(d)/d\n",
        "# (Esta es la función seno cardinal o sinc en 2D)\n",
        "# Para evitar la división por cero, puedes usar np.where o np.divide con out=np.zeros_like\n",
        "z = np.where(d>1e-10,np.sin(d)/d,1)\n",
        "print(\"-------z-------\")\n",
        "print(z)\n",
        "\n",
        "# 3.5 Visualiza la función como un mapa de calor\n",
        "plt.figure(figsize=(10, 8))\n",
        "# Tu código para mostrar z como una imagen\n",
        "plt.imshow(z, origin='lower', extent=[0, 5, 0, 5])\n",
        "plt.colorbar()\n",
        "plt.title('Función seno cardinal 2D: sin(r)/r')\n",
        "plt.show()"
      ],
      "metadata": {
        "colab": {
          "base_uri": "https://localhost:8080/",
          "height": 1000
        },
        "id": "ic8T0HSTJtxF",
        "outputId": "d44d8b75-08f8-4b8d-c079-6acc2079532f"
      },
      "execution_count": null,
      "outputs": [
        {
          "output_type": "stream",
          "name": "stdout",
          "text": [
            "[-5.         -4.79591837 -4.59183673 -4.3877551  -4.18367347 -3.97959184\n",
            " -3.7755102  -3.57142857 -3.36734694 -3.16326531 -2.95918367 -2.75510204\n",
            " -2.55102041 -2.34693878 -2.14285714 -1.93877551 -1.73469388 -1.53061224\n",
            " -1.32653061 -1.12244898 -0.91836735 -0.71428571 -0.51020408 -0.30612245\n",
            " -0.10204082  0.10204082  0.30612245  0.51020408  0.71428571  0.91836735\n",
            "  1.12244898  1.32653061  1.53061224  1.73469388  1.93877551  2.14285714\n",
            "  2.34693878  2.55102041  2.75510204  2.95918367  3.16326531  3.36734694\n",
            "  3.57142857  3.7755102   3.97959184  4.18367347  4.3877551   4.59183673\n",
            "  4.79591837  5.        ]\n",
            "[[-5.        ]\n",
            " [-4.79591837]\n",
            " [-4.59183673]\n",
            " [-4.3877551 ]\n",
            " [-4.18367347]\n",
            " [-3.97959184]\n",
            " [-3.7755102 ]\n",
            " [-3.57142857]\n",
            " [-3.36734694]\n",
            " [-3.16326531]\n",
            " [-2.95918367]\n",
            " [-2.75510204]\n",
            " [-2.55102041]\n",
            " [-2.34693878]\n",
            " [-2.14285714]\n",
            " [-1.93877551]\n",
            " [-1.73469388]\n",
            " [-1.53061224]\n",
            " [-1.32653061]\n",
            " [-1.12244898]\n",
            " [-0.91836735]\n",
            " [-0.71428571]\n",
            " [-0.51020408]\n",
            " [-0.30612245]\n",
            " [-0.10204082]\n",
            " [ 0.10204082]\n",
            " [ 0.30612245]\n",
            " [ 0.51020408]\n",
            " [ 0.71428571]\n",
            " [ 0.91836735]\n",
            " [ 1.12244898]\n",
            " [ 1.32653061]\n",
            " [ 1.53061224]\n",
            " [ 1.73469388]\n",
            " [ 1.93877551]\n",
            " [ 2.14285714]\n",
            " [ 2.34693878]\n",
            " [ 2.55102041]\n",
            " [ 2.75510204]\n",
            " [ 2.95918367]\n",
            " [ 3.16326531]\n",
            " [ 3.36734694]\n",
            " [ 3.57142857]\n",
            " [ 3.7755102 ]\n",
            " [ 3.97959184]\n",
            " [ 4.18367347]\n",
            " [ 4.3877551 ]\n",
            " [ 4.59183673]\n",
            " [ 4.79591837]\n",
            " [ 5.        ]]\n",
            "-------d-------\n",
            "[[7.07106781 6.92826335 6.78859077 ... 6.78859077 6.92826335 7.07106781]\n",
            " [6.92826335 6.7824528  6.63971367 ... 6.63971367 6.7824528  6.92826335]\n",
            " [6.78859077 6.63971367 6.49383779 ... 6.49383779 6.63971367 6.78859077]\n",
            " ...\n",
            " [6.78859077 6.63971367 6.49383779 ... 6.49383779 6.63971367 6.78859077]\n",
            " [6.92826335 6.7824528  6.63971367 ... 6.63971367 6.7824528  6.92826335]\n",
            " [7.07106781 6.92826335 6.78859077 ... 6.78859077 6.92826335 7.07106781]] (50, 50)\n",
            "-------z-------\n",
            "[[0.10024813 0.08678377 0.07131999 ... 0.07131999 0.08678377 0.10024813]\n",
            " [0.08678377 0.07059136 0.05256597 ... 0.05256597 0.07059136 0.08678377]\n",
            " [0.07131999 0.05256597 0.03219945 ... 0.03219945 0.05256597 0.07131999]\n",
            " ...\n",
            " [0.07131999 0.05256597 0.03219945 ... 0.03219945 0.05256597 0.07131999]\n",
            " [0.08678377 0.07059136 0.05256597 ... 0.05256597 0.07059136 0.08678377]\n",
            " [0.10024813 0.08678377 0.07131999 ... 0.07131999 0.08678377 0.10024813]]\n"
          ]
        },
        {
          "output_type": "display_data",
          "data": {
            "text/plain": [
              "<Figure size 1000x800 with 2 Axes>"
            ],
            "image/png": "[encoded data removed]"
          },
          "metadata": {}
        }
      ]
    },
    {
      "cell_type": "markdown",
      "source": [
        "#Ejercicios de Arrays Booleanos y Máscaras en NumPy\n",
        "\n",
        "#Ejercicio 1: Operaciones básicas con arrays booleanos\n",
        "#En este ejercicio practicarás el uso de operaciones de comparación y arrays booleanos en NumPy."
      ],
      "metadata": {
        "id": "_MIMRuXIcok-"
      }
    },
    {
      "cell_type": "code",
      "source": [
        "import numpy as np\n",
        "\n",
        "# 1.1 Crea un array x con los valores del 0 al 9\n",
        "x = np.arange(10)\n",
        "print(x)\n",
        "\n",
        "# 1.2 Crea un array booleano que sea True para los elementos mayores que 5\n",
        "array_true = x>5\n",
        "print(array_true)\n",
        "\n",
        "# 1.3 Crea un array booleano que sea True para los elementos pares\n",
        "# (pista: utiliza el operador módulo %)\n",
        "array_par = x%2==0\n",
        "print(array_par)\n",
        "\n",
        "# 1.4 Usando operadores lógicos (&, |), crea un array booleano que sea True\n",
        "# para los elementos que sean pares Y mayores que 5\n",
        "array = (x%2== 0) & (x >5)\n",
        "print(array)\n",
        "\n",
        "# 1.5 Cuenta cuántos elementos son pares O mayores que 5\n",
        "print(np.count_nonzero((x%2== 0) | (x >5)))\n",
        "print(np.sum((x%2== 0) | (x >5)))\n",
        "\n",
        "# 1.6 Extrae en un nuevo array todos los elementos que sean\n",
        "# impares Y menores que 5\n",
        "array_impar = (x%2 != 0) & (x<5)\n",
        "print(array_impar)"
      ],
      "metadata": {
        "colab": {
          "base_uri": "https://localhost:8080/"
        },
        "id": "xaC1gmtvcr25",
        "outputId": "559f2a83-b5a8-4dd5-bb8d-cd3ddce2a305"
      },
      "execution_count": null,
      "outputs": [
        {
          "output_type": "stream",
          "name": "stdout",
          "text": [
            "[0 1 2 3 4 5 6 7 8 9]\n",
            "[False False False False False False  True  True  True  True]\n",
            "[ True False  True False  True False  True False  True False]\n",
            "[False False False False False False  True False  True False]\n",
            "7\n",
            "7\n",
            "[False  True False  True False False False False False False]\n"
          ]
        }
      ]
    },
    {
      "cell_type": "markdown",
      "source": [
        "#Ejercicio 2: Manipulación de datos con máscaras booleanas\n",
        "#En este ejercicio utilizarás máscaras booleanas para realizar operaciones sobre un conjunto de datos de temperaturas."
      ],
      "metadata": {
        "id": "VsuXu0lMcxaq"
      }
    },
    {
      "cell_type": "code",
      "source": [
        "import numpy as np\n",
        "\n",
        "# 2.1 Crea un array temperaturas con 30 valores aleatorios enteros entre 0 y 35\n",
        "# que representarán temperaturas diarias en grados Celsius\n",
        "np.random.seed(42)  # Para reproducibilidad\n",
        "temperaturas = np.random.randint(0,36,30)\n",
        "print(temperaturas)\n",
        "\n",
        "# 2.2 Crea una máscara para los días con temperaturas superiores a 25°C (días calurosos)\n",
        "print(temperaturas  > 25)\n",
        "# 2.3 Crea una máscara para los días con temperaturas inferiores a 10°C (días fríos)\n",
        "print(temperaturas  < 10)\n",
        "\n",
        "# 2.4 ¿Cuántos días fueron calurosos?\n",
        "print(np.sum(temperaturas  > 25))\n",
        "\n",
        "# 2.5 ¿Cuál fue la temperatura media de los días fríos?\n",
        "dias_frios = temperaturas[temperaturas < 10]\n",
        "print(dias_frios)\n",
        "print(\"Media dias Frios\")\n",
        "print(round(np.mean(dias_frios),2))\n",
        "\n",
        "# 2.6 Crea una máscara para los días con temperaturas \"moderadas\" (entre 15°C y 25°C inclusive)\n",
        "temp_moderada = temperaturas[(temperaturas > 15) & (temperaturas < 25)]\n",
        "print(temp_moderada)\n",
        "\n",
        "# 2.7 Reemplaza las temperaturas de los días fríos por 10°C\n",
        "print(\"Print, valores de la variable 'temperaturas' original\")\n",
        "print(temperaturas)\n",
        "temp_reemplazada = temperaturas.copy()\n",
        "temp_reemplazada[temperaturas < 10]=10\n",
        "print(\"Print, valores de la variable 'temperaturas' despues de reemplazar valores\")\n",
        "\n",
        "print(temperaturas)\n",
        "print(\"Porque los valores de la variable 'temp_reemplazada' no son los mismos de 'temperaturas' despues de reemplazar los valores?\")\n",
        "print(temp_reemplazada)\n",
        "\n",
        "# 2.8 Muestra las 5 temperaturas más altas registradas\n",
        "# (pista: puedes usar np.sort() y arrays booleanos)\n",
        "temp_alta = np.sort(temperaturas)\n",
        "print(temp_alta)\n",
        "print(temp_alta[-1:-6:-1])"
      ],
      "metadata": {
        "id": "mx8Ej6Ncczv1",
        "colab": {
          "base_uri": "https://localhost:8080/"
        },
        "outputId": "63b8a744-5f39-437c-f304-32f99e06f39d"
      },
      "execution_count": null,
      "outputs": [
        {
          "output_type": "stream",
          "name": "stdout",
          "text": [
            "[28 14  7 20 18 22 10 10 23 35 23  2 21  1 23 29  1 20 32 11 21 24 26 27\n",
            " 15 14  2  6 20  8]\n",
            "[ True False False False False False False False False  True False False\n",
            " False False False  True False False  True False False False  True  True\n",
            " False False False False False False]\n",
            "[False False  True False False False False False False False False  True\n",
            " False  True False False  True False False False False False False False\n",
            " False False  True  True False  True]\n",
            "6\n",
            "[7 2 1 1 2 6 8]\n",
            "Media dias Frios\n",
            "3.86\n",
            "[20 18 22 23 23 21 23 20 21 24 20]\n",
            "Print, valores de la variable 'temperaturas' original\n",
            "[28 14  7 20 18 22 10 10 23 35 23  2 21  1 23 29  1 20 32 11 21 24 26 27\n",
            " 15 14  2  6 20  8]\n",
            "Print, valores de la variable 'temperaturas' despues de reemplazar valores\n",
            "[28 14  7 20 18 22 10 10 23 35 23  2 21  1 23 29  1 20 32 11 21 24 26 27\n",
            " 15 14  2  6 20  8]\n",
            "Porque los valores de la variable 'temp_reemplazada' no son los mismos de 'temperaturas' despues de reemplazar los valores?\n",
            "[28 14 10 20 18 22 10 10 23 35 23 10 21 10 23 29 10 20 32 11 21 24 26 27\n",
            " 15 14 10 10 20 10]\n",
            "[ 1  1  2  2  6  7  8 10 10 11 14 14 15 18 20 20 20 21 21 22 23 23 23 24\n",
            " 26 27 28 29 32 35]\n",
            "[35 32 29 28 27]\n"
          ]
        }
      ]
    },
    {
      "cell_type": "markdown",
      "source": [
        "#Ejercicio 3: Análisis de datos con máscaras booleanas\n",
        "#En este ejercicio utilizarás máscaras booleanas para analizar un dataset de calificaciones de estudiantes."
      ],
      "metadata": {
        "id": "KXWjjOFDc41v"
      }
    },
    {
      "cell_type": "code",
      "source": [
        "import numpy as np\n",
        "\n",
        "# 3.1 Crea una matriz calificaciones de forma (10, 4) con valores aleatorios entre 0 y 10\n",
        "# que representan las notas de 10 estudiantes en 4 asignaturas\n",
        "np.random.seed(42)  # Para reproducibilidad\n",
        "calificaciones = np.random.randint(0,11,size=(10,4))\n",
        "print(calificaciones)\n",
        "\n",
        "# 3.2 Crea una máscara para las calificaciones aprobadas (>=5)\n",
        "a=calificaciones >=5\n",
        "print(a)\n",
        "\n",
        "# 3.3 ¿Cuántas calificaciones en total son aprobadas?\n",
        "print(np.sum(a))\n",
        "\n",
        "# 3.4 Crea un array que contenga el número de asignaturas aprobadas por cada estudiante\n",
        "n_asignaturas = np.sum(a,axis=1).reshape(-1,1)\n",
        "print(n_asignaturas)\n",
        "\n",
        "# 3.5 ¿Cuántos estudiantes han aprobado todas las asignaturas?\n",
        "aprobados = np.sum(np.all(a, axis=1))\n",
        "print(aprobados)\n",
        "\n",
        "# 3.6 Crea un array con los índices de los estudiantes que tienen alguna calificación excelente (>=9)\n",
        "# Pista: np.where() devuelve los índices donde una condición es True\n",
        "np.where(calificaciones >= 9)\n",
        "\n",
        "# 3.7 Calcula la nota media de cada estudiante y crea un array booleano que\n",
        "# indique qué estudiantes tienen una media superior a 7\n",
        "nota_media  = np.mean(calificaciones,axis=1).reshape(-1,1)\n",
        "print(nota_media)\n",
        "nota_media_7 = nota_media > 7\n",
        "print(f'Medias superior a 7: {np.sum(nota_media_7)} alumnos')\n",
        "\n",
        "# 3.8 Identifica en qué asignatura se ha obtenido la mejor calificación\n",
        "# (pista: utiliza np.argmax() después de calcular la media por asignatura)\n",
        "media_asignatura = np.mean(calificaciones,axis=0)\n",
        "print(media_asignatura)\n",
        "print(f\"La asignatura mejor calificada es: {np.argmax(media_asignatura)+1}\")\n"
      ],
      "metadata": {
        "id": "kwgDfFe3c64q",
        "colab": {
          "base_uri": "https://localhost:8080/"
        },
        "outputId": "932a7c1f-678c-4433-c2d7-a6fb5f08f999"
      },
      "execution_count": null,
      "outputs": [
        {
          "output_type": "stream",
          "name": "stdout",
          "text": [
            "[[ 6  3 10  7]\n",
            " [ 4  6  9  2]\n",
            " [ 6 10 10  7]\n",
            " [ 4  3  7  7]\n",
            " [ 2  5  4  1]\n",
            " [ 7  5  1  4]\n",
            " [ 0  9  5  8]\n",
            " [ 0 10 10  9]\n",
            " [ 2  6  3  8]\n",
            " [ 2  4  2  6]]\n",
            "[[ True False  True  True]\n",
            " [False  True  True False]\n",
            " [ True  True  True  True]\n",
            " [False False  True  True]\n",
            " [False  True False False]\n",
            " [ True  True False False]\n",
            " [False  True  True  True]\n",
            " [False  True  True  True]\n",
            " [False  True False  True]\n",
            " [False False False  True]]\n",
            "23\n",
            "[[3]\n",
            " [2]\n",
            " [4]\n",
            " [2]\n",
            " [1]\n",
            " [2]\n",
            " [3]\n",
            " [3]\n",
            " [2]\n",
            " [1]]\n",
            "1\n",
            "[[6.5 ]\n",
            " [5.25]\n",
            " [8.25]\n",
            " [5.25]\n",
            " [3.  ]\n",
            " [4.25]\n",
            " [5.5 ]\n",
            " [7.25]\n",
            " [4.75]\n",
            " [3.5 ]]\n",
            "Medias superior a 7: 2 alumnos\n",
            "[3.3 6.1 6.1 5.9]\n",
            "La asignatura mejor calificada es: 2\n"
          ]
        }
      ]
    },
    {
      "cell_type": "markdown",
      "source": [
        "#Exercicio 1 Ordenamiento de Array en Numpy\n",
        "\n",
        "\n",
        "---\n",
        "\n"
      ],
      "metadata": {
        "id": "P8RZlSWKS7Yy"
      }
    },
    {
      "cell_type": "code",
      "source": [
        "import numpy as np\n",
        "import matplotlib.pyplot as plt\n",
        "\n",
        "rng = np.random.default_rng(seed=42)\n",
        "# 1.1 Crea un array unidimensional de 20 valores aleatorios enteros entre 0 y 100\n",
        "array = rng.integers(0,101,20)\n",
        "print(array)\n",
        "\n",
        "# 1.2 Utiliza np.sort() para ordenar el array y almacénalo en una nueva variable\n",
        "# 1.2.1 Ordena de menor a mayor (ascendente)\n",
        "array_sort = np.sort(array)\n",
        "print(array_sort)\n",
        "# 1.2.2 Ordena de mayor a menor (descendente)\n",
        "# Pista: puedes usar np.sort() y luego invertir el resultado, o usar un truco con el signo negativo\n",
        "array_sort_decres = array_sort[::-1]\n",
        "print(array_sort_decres)\n",
        "print(-np.sort(-array_sort_decres))\n",
        "# 1.3 Utiliza el método .sort() para ordenar el array original en su lugar\n",
        "array.sort()\n",
        "print(array)\n",
        "\n",
        "# 1.4 Crea una matriz X de forma (5, 4) con valores aleatorios enteros entre 0 y 50\n",
        "X = np.random.randint(0,51,(5,4))\n",
        "print(X)\n",
        "\n",
        "# 1.5 Ordena la matriz X a lo largo del eje 0 (por columnas)\n",
        "X_sort_columna = np.sort(X,axis=0)\n",
        "print(X_sort_columna)\n",
        "\n",
        "# 1.6 Ordena la matriz X a lo largo del eje 1 (por filas)\n",
        "X_sort_linea = np.sort(X,axis=1)\n",
        "print(X_sort_linea)\n",
        "\n",
        "# 1.7 Utiliza np.argsort() para obtener los índices que ordenarían el array original del paso 1.1\n",
        "# 1.7.1 Obtén los índices para ordenamiento ascendente\n",
        "array_original = rng.integers(0,101,20)\n",
        "indice_ordenados = np.argsort(array_original)\n",
        "print(indice_ordenados)\n",
        "\n",
        "# 1.7.2 Obtén los índices para ordenamiento descendente\n",
        "# Pista: usa el parámetro kind de np.argsort() para probar diferentes algoritmos de ordenamiento\n",
        "# (por ejemplo, 'quicksort', 'mergesort', 'heapsort')\n",
        "indices_desc1 = np.argsort(array_original)[::-1]\n",
        "indices_desc2 = np.argsort(-array_original)\n",
        "print(indices_desc1)\n",
        "print(indices_desc2)\n",
        "\n",
        "indices_quicksort = np.argsort(array_original, kind='quicksort')\n",
        "indices_mergesort = np.argsort(array_original, kind='mergesort')\n",
        "indices_heapsort = np.argsort(array_original, kind='heapsort')\n",
        "\n",
        "print(\"Usando quicksort:\", indices_quicksort)\n",
        "print(\"Usando mergesort:\", indices_mergesort)\n",
        "print(\"Usando heapsort:\", indices_heapsort)\n",
        "# 1.8 Utiliza np.partition() para colocar los 5 valores más pequeños de X en las primeras posiciones\n",
        "# de cada fila, sin importar el orden entre ellos\n",
        "x_partiticionada = np.partition(X,2,1)\n",
        "print(x_partiticionada)\n",
        "\n",
        "# 1.9 Utiliza np.argpartition() para obtener los índices que particionarían el array original\n",
        "# para los 3 valores más pequeños\n",
        "indices_particion = np.argpartition(array_original, 3)\n",
        "print(indices_particion)"
      ],
      "metadata": {
        "colab": {
          "base_uri": "https://localhost:8080/"
        },
        "id": "rMIMsxnYSuoG",
        "outputId": "cd764ebc-1a3e-4dca-c86b-aa1b8d255e6e"
      },
      "execution_count": null,
      "outputs": [
        {
          "output_type": "stream",
          "name": "stdout",
          "text": [
            "[ 9 78 66 44 43 86  8 70 20  9 53 98 74 76 72 79 51 12 84 45]\n",
            "[ 8  9  9 12 20 43 44 45 51 53 66 70 72 74 76 78 79 84 86 98]\n",
            "[98 86 84 79 78 76 74 72 70 66 53 51 45 44 43 20 12  9  9  8]\n",
            "[98 86 84 79 78 76 74 72 70 66 53 51 45 44 43 20 12  9  9  8]\n",
            "[ 8  9  9 12 20 43 44 45 51 53 66 70 72 74 76 78 79 84 86 98]\n",
            "[[ 5  4  8  7]\n",
            " [32 33 24 46]\n",
            " [45 27 22 36]\n",
            " [36 34 36 15]\n",
            " [12 43 18 19]]\n",
            "[[ 5  4  8  7]\n",
            " [12 27 18 15]\n",
            " [32 33 22 19]\n",
            " [36 34 24 36]\n",
            " [45 43 36 46]]\n",
            "[[ 4  5  7  8]\n",
            " [24 32 33 46]\n",
            " [22 27 36 45]\n",
            " [15 34 36 36]\n",
            " [12 18 19 43]]\n",
            "[15 12  2 11 18  1  6  9 10  0  8 13 19  5  4  7 17 16 14  3]\n",
            "[ 3 14 16 17  7  4  5 19 13  8  0 10  9  6  1 18 11  2 12 15]\n",
            "[ 3 14 16  7 17  4  5 19 13  8  0 10  9  6  1 18 11  2 12 15]\n",
            "Usando quicksort: [15 12  2 11 18  1  6  9 10  0  8 13 19  5  4  7 17 16 14  3]\n",
            "Usando mergesort: [15 12  2 11 18  1  6  9 10  0  8 13 19  5  4  7 17 16 14  3]\n",
            "Usando heapsort: [15 12  2 11 18  1  6  9 10  0  8 13 19  5  4 17  7 16 14  3]\n",
            "[[ 4  5  7  8]\n",
            " [24 32 33 46]\n",
            " [22 27 36 45]\n",
            " [15 34 36 36]\n",
            " [12 18 19 43]]\n",
            "[15 12  2 11 18  1  6  9 10  0  8 13 19  5  4  7 17 16 14  3]\n"
          ]
        }
      ]
    }
  ]
}